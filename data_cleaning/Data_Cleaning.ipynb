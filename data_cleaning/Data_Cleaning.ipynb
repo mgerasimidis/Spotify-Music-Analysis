{
 "cells": [
  {
   "cell_type": "code",
   "execution_count": 1,
   "id": "20bd5267",
   "metadata": {},
   "outputs": [],
   "source": [
    "import pandas as pd\n",
    "import numpy as np"
   ]
  },
  {
   "cell_type": "code",
   "execution_count": 2,
   "id": "ababe338",
   "metadata": {},
   "outputs": [],
   "source": [
    "# Data from: \n",
    "# https://www.kaggle.com/rodolfofigueroa/spotify-12m-songs\n",
    "# https://github.com/rfordatascience/tidytuesday/blob/master/data/2020/2020-01-21/readme.md"
   ]
  },
  {
   "cell_type": "code",
   "execution_count": 3,
   "id": "da1d6182",
   "metadata": {},
   "outputs": [],
   "source": [
    "df1 = pd.read_csv(r'C:\\Users\\KOSTAS\\Desktop\\E_D_A-projects-python\\Spotify_Analysis\\data\\tracks_features.csv')"
   ]
  },
  {
   "cell_type": "code",
   "execution_count": 4,
   "id": "59e9950a",
   "metadata": {},
   "outputs": [],
   "source": [
    "df2 = pd.read_csv(r'C:\\Users\\KOSTAS\\Desktop\\E_D_A-projects-python\\Spotify_Analysis\\data\\spotify_songs.csv')"
   ]
  },
  {
   "cell_type": "code",
   "execution_count": 5,
   "id": "371dbeb0",
   "metadata": {},
   "outputs": [
    {
     "name": "stdout",
     "output_type": "stream",
     "text": [
      "Shape of df1: (1204025, 24)\n",
      "Shape of df2: (32833, 23)\n"
     ]
    }
   ],
   "source": [
    "print(\"Shape of df1:\",df1.shape)\n",
    "print(\"Shape of df2:\",df2.shape)"
   ]
  },
  {
   "cell_type": "code",
   "execution_count": 6,
   "id": "6ea68e3a",
   "metadata": {},
   "outputs": [
    {
     "data": {
      "text/plain": [
       "Index(['id', 'name', 'album', 'album_id', 'artists', 'artist_ids',\n",
       "       'track_number', 'disc_number', 'explicit', 'danceability', 'energy',\n",
       "       'key', 'loudness', 'mode', 'speechiness', 'acousticness',\n",
       "       'instrumentalness', 'liveness', 'valence', 'tempo', 'duration_ms',\n",
       "       'time_signature', 'year', 'release_date'],\n",
       "      dtype='object')"
      ]
     },
     "execution_count": 6,
     "metadata": {},
     "output_type": "execute_result"
    }
   ],
   "source": [
    "df1.columns"
   ]
  },
  {
   "cell_type": "code",
   "execution_count": 7,
   "id": "43d5900c",
   "metadata": {},
   "outputs": [
    {
     "data": {
      "text/plain": [
       "Index(['track_id', 'track_name', 'track_artist', 'track_popularity',\n",
       "       'track_album_id', 'track_album_name', 'track_album_release_date',\n",
       "       'playlist_name', 'playlist_id', 'playlist_genre', 'playlist_subgenre',\n",
       "       'danceability', 'energy', 'key', 'loudness', 'mode', 'speechiness',\n",
       "       'acousticness', 'instrumentalness', 'liveness', 'valence', 'tempo',\n",
       "       'duration_ms'],\n",
       "      dtype='object')"
      ]
     },
     "execution_count": 7,
     "metadata": {},
     "output_type": "execute_result"
    }
   ],
   "source": [
    "df2.columns"
   ]
  },
  {
   "cell_type": "markdown",
   "id": "4138f806",
   "metadata": {},
   "source": [
    "### Merge the dataframes"
   ]
  },
  {
   "cell_type": "markdown",
   "id": "6e590cd2",
   "metadata": {},
   "source": [
    "#### First check, if the column 'id' is unique in the two dataframes"
   ]
  },
  {
   "cell_type": "code",
   "execution_count": 8,
   "id": "b0e34826",
   "metadata": {},
   "outputs": [
    {
     "name": "stdout",
     "output_type": "stream",
     "text": [
      "True\n",
      "False\n"
     ]
    }
   ],
   "source": [
    "print(df1['id'].is_unique)\n",
    "print(df2['track_id'].is_unique) # We do not want same songs (same id) to have different values on other columns, so drop them"
   ]
  },
  {
   "cell_type": "code",
   "execution_count": 9,
   "id": "a81cb49d",
   "metadata": {},
   "outputs": [
    {
     "name": "stdout",
     "output_type": "stream",
     "text": [
      "(28356, 23)\n"
     ]
    }
   ],
   "source": [
    "new_df2 = df2.drop_duplicates(subset=['track_id'], keep='first')\n",
    "print(new_df2.shape)"
   ]
  },
  {
   "cell_type": "markdown",
   "id": "2e3b2b38",
   "metadata": {},
   "source": [
    "#### Merge, using as key the 'id' of the track"
   ]
  },
  {
   "cell_type": "code",
   "execution_count": 10,
   "id": "9fcf9a68",
   "metadata": {},
   "outputs": [
    {
     "name": "stderr",
     "output_type": "stream",
     "text": [
      "C:\\Users\\KOSTAS\\AppData\\Local\\Temp/ipykernel_10692/3883072736.py:1: SettingWithCopyWarning: \n",
      "A value is trying to be set on a copy of a slice from a DataFrame\n",
      "\n",
      "See the caveats in the documentation: https://pandas.pydata.org/pandas-docs/stable/user_guide/indexing.html#returning-a-view-versus-a-copy\n",
      "  new_df2.rename(columns={'track_id': 'id', 'track_name': 'name'}, inplace=True) #rename\n"
     ]
    }
   ],
   "source": [
    "new_df2.rename(columns={'track_id': 'id', 'track_name': 'name'}, inplace=True) #rename"
   ]
  },
  {
   "cell_type": "code",
   "execution_count": 11,
   "id": "0c7cc439",
   "metadata": {},
   "outputs": [],
   "source": [
    "df = pd.merge(df1, new_df2[['id','playlist_genre','track_popularity']], on = 'id', how = 'left') # merge"
   ]
  },
  {
   "cell_type": "code",
   "execution_count": 12,
   "id": "871d3ef4",
   "metadata": {},
   "outputs": [],
   "source": [
    "pd.set_option(\"display.max_columns\", None) # Show all columns"
   ]
  },
  {
   "cell_type": "code",
   "execution_count": 13,
   "id": "6f61aeef",
   "metadata": {},
   "outputs": [
    {
     "data": {
      "text/html": [
       "<div>\n",
       "<style scoped>\n",
       "    .dataframe tbody tr th:only-of-type {\n",
       "        vertical-align: middle;\n",
       "    }\n",
       "\n",
       "    .dataframe tbody tr th {\n",
       "        vertical-align: top;\n",
       "    }\n",
       "\n",
       "    .dataframe thead th {\n",
       "        text-align: right;\n",
       "    }\n",
       "</style>\n",
       "<table border=\"1\" class=\"dataframe\">\n",
       "  <thead>\n",
       "    <tr style=\"text-align: right;\">\n",
       "      <th></th>\n",
       "      <th>id</th>\n",
       "      <th>name</th>\n",
       "      <th>album</th>\n",
       "      <th>album_id</th>\n",
       "      <th>artists</th>\n",
       "      <th>artist_ids</th>\n",
       "      <th>track_number</th>\n",
       "      <th>disc_number</th>\n",
       "      <th>explicit</th>\n",
       "      <th>danceability</th>\n",
       "      <th>energy</th>\n",
       "      <th>key</th>\n",
       "      <th>loudness</th>\n",
       "      <th>mode</th>\n",
       "      <th>speechiness</th>\n",
       "      <th>acousticness</th>\n",
       "      <th>instrumentalness</th>\n",
       "      <th>liveness</th>\n",
       "      <th>valence</th>\n",
       "      <th>tempo</th>\n",
       "      <th>duration_ms</th>\n",
       "      <th>time_signature</th>\n",
       "      <th>year</th>\n",
       "      <th>release_date</th>\n",
       "      <th>playlist_genre</th>\n",
       "      <th>track_popularity</th>\n",
       "    </tr>\n",
       "  </thead>\n",
       "  <tbody>\n",
       "    <tr>\n",
       "      <th>0</th>\n",
       "      <td>7lmeHLHBe4nmXzuXc0HDjk</td>\n",
       "      <td>Testify</td>\n",
       "      <td>The Battle Of Los Angeles</td>\n",
       "      <td>2eia0myWFgoHuttJytCxgX</td>\n",
       "      <td>['Rage Against The Machine']</td>\n",
       "      <td>['2d0hyoQ5ynDBnkvAbJKORj']</td>\n",
       "      <td>1</td>\n",
       "      <td>1</td>\n",
       "      <td>False</td>\n",
       "      <td>0.470</td>\n",
       "      <td>0.978</td>\n",
       "      <td>7</td>\n",
       "      <td>-5.399</td>\n",
       "      <td>1</td>\n",
       "      <td>0.0727</td>\n",
       "      <td>0.02610</td>\n",
       "      <td>0.000011</td>\n",
       "      <td>0.3560</td>\n",
       "      <td>0.503</td>\n",
       "      <td>117.906</td>\n",
       "      <td>210133</td>\n",
       "      <td>4.0</td>\n",
       "      <td>1999</td>\n",
       "      <td>1999-11-02</td>\n",
       "      <td>NaN</td>\n",
       "      <td>NaN</td>\n",
       "    </tr>\n",
       "    <tr>\n",
       "      <th>1</th>\n",
       "      <td>1wsRitfRRtWyEapl0q22o8</td>\n",
       "      <td>Guerrilla Radio</td>\n",
       "      <td>The Battle Of Los Angeles</td>\n",
       "      <td>2eia0myWFgoHuttJytCxgX</td>\n",
       "      <td>['Rage Against The Machine']</td>\n",
       "      <td>['2d0hyoQ5ynDBnkvAbJKORj']</td>\n",
       "      <td>2</td>\n",
       "      <td>1</td>\n",
       "      <td>True</td>\n",
       "      <td>0.599</td>\n",
       "      <td>0.957</td>\n",
       "      <td>11</td>\n",
       "      <td>-5.764</td>\n",
       "      <td>1</td>\n",
       "      <td>0.1880</td>\n",
       "      <td>0.01290</td>\n",
       "      <td>0.000071</td>\n",
       "      <td>0.1550</td>\n",
       "      <td>0.489</td>\n",
       "      <td>103.680</td>\n",
       "      <td>206200</td>\n",
       "      <td>4.0</td>\n",
       "      <td>1999</td>\n",
       "      <td>1999-11-02</td>\n",
       "      <td>rock</td>\n",
       "      <td>69.0</td>\n",
       "    </tr>\n",
       "    <tr>\n",
       "      <th>2</th>\n",
       "      <td>1hR0fIFK2qRG3f3RF70pb7</td>\n",
       "      <td>Calm Like a Bomb</td>\n",
       "      <td>The Battle Of Los Angeles</td>\n",
       "      <td>2eia0myWFgoHuttJytCxgX</td>\n",
       "      <td>['Rage Against The Machine']</td>\n",
       "      <td>['2d0hyoQ5ynDBnkvAbJKORj']</td>\n",
       "      <td>3</td>\n",
       "      <td>1</td>\n",
       "      <td>False</td>\n",
       "      <td>0.315</td>\n",
       "      <td>0.970</td>\n",
       "      <td>7</td>\n",
       "      <td>-5.424</td>\n",
       "      <td>1</td>\n",
       "      <td>0.4830</td>\n",
       "      <td>0.02340</td>\n",
       "      <td>0.000002</td>\n",
       "      <td>0.1220</td>\n",
       "      <td>0.370</td>\n",
       "      <td>149.749</td>\n",
       "      <td>298893</td>\n",
       "      <td>4.0</td>\n",
       "      <td>1999</td>\n",
       "      <td>1999-11-02</td>\n",
       "      <td>NaN</td>\n",
       "      <td>NaN</td>\n",
       "    </tr>\n",
       "    <tr>\n",
       "      <th>3</th>\n",
       "      <td>2lbASgTSoDO7MTuLAXlTW0</td>\n",
       "      <td>Mic Check</td>\n",
       "      <td>The Battle Of Los Angeles</td>\n",
       "      <td>2eia0myWFgoHuttJytCxgX</td>\n",
       "      <td>['Rage Against The Machine']</td>\n",
       "      <td>['2d0hyoQ5ynDBnkvAbJKORj']</td>\n",
       "      <td>4</td>\n",
       "      <td>1</td>\n",
       "      <td>True</td>\n",
       "      <td>0.440</td>\n",
       "      <td>0.967</td>\n",
       "      <td>11</td>\n",
       "      <td>-5.830</td>\n",
       "      <td>0</td>\n",
       "      <td>0.2370</td>\n",
       "      <td>0.16300</td>\n",
       "      <td>0.000004</td>\n",
       "      <td>0.1210</td>\n",
       "      <td>0.574</td>\n",
       "      <td>96.752</td>\n",
       "      <td>213640</td>\n",
       "      <td>4.0</td>\n",
       "      <td>1999</td>\n",
       "      <td>1999-11-02</td>\n",
       "      <td>NaN</td>\n",
       "      <td>NaN</td>\n",
       "    </tr>\n",
       "    <tr>\n",
       "      <th>4</th>\n",
       "      <td>1MQTmpYOZ6fcMQc56Hdo7T</td>\n",
       "      <td>Sleep Now In the Fire</td>\n",
       "      <td>The Battle Of Los Angeles</td>\n",
       "      <td>2eia0myWFgoHuttJytCxgX</td>\n",
       "      <td>['Rage Against The Machine']</td>\n",
       "      <td>['2d0hyoQ5ynDBnkvAbJKORj']</td>\n",
       "      <td>5</td>\n",
       "      <td>1</td>\n",
       "      <td>False</td>\n",
       "      <td>0.426</td>\n",
       "      <td>0.929</td>\n",
       "      <td>2</td>\n",
       "      <td>-6.729</td>\n",
       "      <td>1</td>\n",
       "      <td>0.0701</td>\n",
       "      <td>0.00162</td>\n",
       "      <td>0.105000</td>\n",
       "      <td>0.0789</td>\n",
       "      <td>0.539</td>\n",
       "      <td>127.059</td>\n",
       "      <td>205600</td>\n",
       "      <td>4.0</td>\n",
       "      <td>1999</td>\n",
       "      <td>1999-11-02</td>\n",
       "      <td>rap</td>\n",
       "      <td>66.0</td>\n",
       "    </tr>\n",
       "  </tbody>\n",
       "</table>\n",
       "</div>"
      ],
      "text/plain": [
       "                       id                   name                      album  \\\n",
       "0  7lmeHLHBe4nmXzuXc0HDjk                Testify  The Battle Of Los Angeles   \n",
       "1  1wsRitfRRtWyEapl0q22o8        Guerrilla Radio  The Battle Of Los Angeles   \n",
       "2  1hR0fIFK2qRG3f3RF70pb7       Calm Like a Bomb  The Battle Of Los Angeles   \n",
       "3  2lbASgTSoDO7MTuLAXlTW0              Mic Check  The Battle Of Los Angeles   \n",
       "4  1MQTmpYOZ6fcMQc56Hdo7T  Sleep Now In the Fire  The Battle Of Los Angeles   \n",
       "\n",
       "                 album_id                       artists  \\\n",
       "0  2eia0myWFgoHuttJytCxgX  ['Rage Against The Machine']   \n",
       "1  2eia0myWFgoHuttJytCxgX  ['Rage Against The Machine']   \n",
       "2  2eia0myWFgoHuttJytCxgX  ['Rage Against The Machine']   \n",
       "3  2eia0myWFgoHuttJytCxgX  ['Rage Against The Machine']   \n",
       "4  2eia0myWFgoHuttJytCxgX  ['Rage Against The Machine']   \n",
       "\n",
       "                   artist_ids  track_number  disc_number  explicit  \\\n",
       "0  ['2d0hyoQ5ynDBnkvAbJKORj']             1            1     False   \n",
       "1  ['2d0hyoQ5ynDBnkvAbJKORj']             2            1      True   \n",
       "2  ['2d0hyoQ5ynDBnkvAbJKORj']             3            1     False   \n",
       "3  ['2d0hyoQ5ynDBnkvAbJKORj']             4            1      True   \n",
       "4  ['2d0hyoQ5ynDBnkvAbJKORj']             5            1     False   \n",
       "\n",
       "   danceability  energy  key  loudness  mode  speechiness  acousticness  \\\n",
       "0         0.470   0.978    7    -5.399     1       0.0727       0.02610   \n",
       "1         0.599   0.957   11    -5.764     1       0.1880       0.01290   \n",
       "2         0.315   0.970    7    -5.424     1       0.4830       0.02340   \n",
       "3         0.440   0.967   11    -5.830     0       0.2370       0.16300   \n",
       "4         0.426   0.929    2    -6.729     1       0.0701       0.00162   \n",
       "\n",
       "   instrumentalness  liveness  valence    tempo  duration_ms  time_signature  \\\n",
       "0          0.000011    0.3560    0.503  117.906       210133             4.0   \n",
       "1          0.000071    0.1550    0.489  103.680       206200             4.0   \n",
       "2          0.000002    0.1220    0.370  149.749       298893             4.0   \n",
       "3          0.000004    0.1210    0.574   96.752       213640             4.0   \n",
       "4          0.105000    0.0789    0.539  127.059       205600             4.0   \n",
       "\n",
       "   year release_date playlist_genre  track_popularity  \n",
       "0  1999   1999-11-02            NaN               NaN  \n",
       "1  1999   1999-11-02           rock              69.0  \n",
       "2  1999   1999-11-02            NaN               NaN  \n",
       "3  1999   1999-11-02            NaN               NaN  \n",
       "4  1999   1999-11-02            rap              66.0  "
      ]
     },
     "execution_count": 13,
     "metadata": {},
     "output_type": "execute_result"
    }
   ],
   "source": [
    "df.head()"
   ]
  },
  {
   "cell_type": "code",
   "execution_count": 14,
   "id": "6e565ef7",
   "metadata": {},
   "outputs": [
    {
     "data": {
      "text/plain": [
       "id                        0\n",
       "name                      0\n",
       "album                     0\n",
       "album_id                  0\n",
       "artists                   0\n",
       "artist_ids                0\n",
       "track_number              0\n",
       "disc_number               0\n",
       "explicit                  0\n",
       "danceability              0\n",
       "energy                    0\n",
       "key                       0\n",
       "loudness                  0\n",
       "mode                      0\n",
       "speechiness               0\n",
       "acousticness              0\n",
       "instrumentalness          0\n",
       "liveness                  0\n",
       "valence                   0\n",
       "tempo                     0\n",
       "duration_ms               0\n",
       "time_signature            0\n",
       "year                      0\n",
       "release_date              0\n",
       "playlist_genre      1201206\n",
       "track_popularity    1201206\n",
       "dtype: int64"
      ]
     },
     "execution_count": 14,
     "metadata": {},
     "output_type": "execute_result"
    }
   ],
   "source": [
    "df.isnull().sum() # because of merge, playlist_genre and track_popularity have many 'NaNs'. "
   ]
  },
  {
   "cell_type": "markdown",
   "id": "0f065229",
   "metadata": {},
   "source": [
    "### Cleaning to get month"
   ]
  },
  {
   "cell_type": "code",
   "execution_count": 15,
   "id": "76889c4c",
   "metadata": {},
   "outputs": [],
   "source": [
    "get_month = df['release_date'].apply(lambda x: x.split(\"-\")[1] if x.count('-')==2 else None)\n",
    "df.insert(df.columns.get_loc('year') + 1,'month',get_month)\n",
    "\n",
    "# Why do we need the if statement above? Because after exploring the dataset, we see there are elements like the folowing:"
   ]
  },
  {
   "cell_type": "code",
   "execution_count": 16,
   "id": "b64a67cf",
   "metadata": {},
   "outputs": [
    {
     "data": {
      "text/plain": [
       "'2001'"
      ]
     },
     "execution_count": 16,
     "metadata": {},
     "output_type": "execute_result"
    }
   ],
   "source": [
    "df.iloc[170]['release_date'] # That is, not in the form YYYY-MM-DD"
   ]
  },
  {
   "cell_type": "code",
   "execution_count": 17,
   "id": "2b8e2caa",
   "metadata": {},
   "outputs": [
    {
     "data": {
      "text/plain": [
       "id                        0\n",
       "name                      0\n",
       "album                     0\n",
       "album_id                  0\n",
       "artists                   0\n",
       "artist_ids                0\n",
       "track_number              0\n",
       "disc_number               0\n",
       "explicit                  0\n",
       "danceability              0\n",
       "energy                    0\n",
       "key                       0\n",
       "loudness                  0\n",
       "mode                      0\n",
       "speechiness               0\n",
       "acousticness              0\n",
       "instrumentalness          0\n",
       "liveness                  0\n",
       "valence                   0\n",
       "tempo                     0\n",
       "duration_ms               0\n",
       "time_signature            0\n",
       "year                      0\n",
       "month                131186\n",
       "release_date              0\n",
       "playlist_genre      1201206\n",
       "track_popularity    1201206\n",
       "dtype: int64"
      ]
     },
     "execution_count": 17,
     "metadata": {},
     "output_type": "execute_result"
    }
   ],
   "source": [
    "df.isnull().sum() #because of the problem above, we have some 'NaNs' at 'month' column"
   ]
  },
  {
   "cell_type": "markdown",
   "id": "bb707596",
   "metadata": {},
   "source": [
    "### Cleaning to get artist names, useful for the feat analysis"
   ]
  },
  {
   "cell_type": "code",
   "execution_count": 18,
   "id": "355cbf4d",
   "metadata": {},
   "outputs": [
    {
     "name": "stdout",
     "output_type": "stream",
     "text": [
      "['Rage Against The Machine']\n",
      "28\n"
     ]
    }
   ],
   "source": [
    "# The problem:\n",
    "print(df['artists'][0])\n",
    "print(len(df['artists'][0]))\n",
    "\n",
    "# I need to convert the names to lists, each element of the list representing the name of an artist\n",
    "# Hence, if I want to find songs that were feat, we can just search for len(df[artists]) > 1"
   ]
  },
  {
   "cell_type": "code",
   "execution_count": 19,
   "id": "13f2c209",
   "metadata": {},
   "outputs": [],
   "source": [
    "def get_artist(artists):\n",
    "    \"\"\"\n",
    "    In order to transform artist names to lists\n",
    "    \"\"\"\n",
    "    res = []\n",
    "    artists = artists.replace(\"[\",\"\")\n",
    "    artists = artists.replace(\"]\",\"\")\n",
    "    if \",\" not in artists:\n",
    "        res.append(artists)\n",
    "        return res\n",
    "    elif \",\" in artists:\n",
    "        artists = artists.split(\", \") \n",
    "        return artists   "
   ]
  },
  {
   "cell_type": "code",
   "execution_count": 20,
   "id": "60db5467",
   "metadata": {},
   "outputs": [],
   "source": [
    "df['artists'] = list(map(get_artist,df['artists']))"
   ]
  },
  {
   "cell_type": "code",
   "execution_count": 21,
   "id": "13b6e74d",
   "metadata": {},
   "outputs": [
    {
     "name": "stdout",
     "output_type": "stream",
     "text": [
      "[\"'Rage Against The Machine'\"]\n",
      "1\n"
     ]
    }
   ],
   "source": [
    "# Problem (almost) solved\n",
    "print(df['artists'][0])\n",
    "print(len(df['artists'][0]))"
   ]
  },
  {
   "cell_type": "code",
   "execution_count": 22,
   "id": "2ff28528",
   "metadata": {},
   "outputs": [],
   "source": [
    "# Now let's remove the quotes from the names\n",
    "def remove_quotes(artists):\n",
    "    new = []\n",
    "    for artist in artists:\n",
    "        artist = artist.replace(\"'\",\"\")\n",
    "        new.append(artist)\n",
    "    return new"
   ]
  },
  {
   "cell_type": "code",
   "execution_count": 23,
   "id": "68d39dec",
   "metadata": {},
   "outputs": [],
   "source": [
    "df['artists'] = list(map(remove_quotes,df['artists']))"
   ]
  },
  {
   "cell_type": "code",
   "execution_count": 49,
   "id": "874abcda",
   "metadata": {},
   "outputs": [
    {
     "data": {
      "text/plain": [
       "['Rage Against The Machine']"
      ]
     },
     "execution_count": 49,
     "metadata": {},
     "output_type": "execute_result"
    }
   ],
   "source": [
    "# Without quotes\n",
    "df['artists'][0]"
   ]
  },
  {
   "cell_type": "markdown",
   "id": "90bd06fe",
   "metadata": {},
   "source": [
    "### Feat Column"
   ]
  },
  {
   "cell_type": "code",
   "execution_count": 50,
   "id": "705efbd2",
   "metadata": {},
   "outputs": [],
   "source": [
    "def get_feat(art):\n",
    "    if len(art) > 1:\n",
    "        return \"Yes\"\n",
    "    elif len(art) == 1:\n",
    "        return \"No\""
   ]
  },
  {
   "cell_type": "code",
   "execution_count": 51,
   "id": "2d4c1762",
   "metadata": {},
   "outputs": [],
   "source": [
    "df['feat'] = list(map(get_feat,df['artists']))"
   ]
  },
  {
   "cell_type": "code",
   "execution_count": 52,
   "id": "286cc2e9",
   "metadata": {},
   "outputs": [
    {
     "data": {
      "text/plain": [
       "year\n",
       "0          10\n",
       "1900       14\n",
       "1908       19\n",
       "1909       25\n",
       "1917       52\n",
       "        ...  \n",
       "2016    47427\n",
       "2017    51308\n",
       "2018    56167\n",
       "2019    67276\n",
       "2020    69726\n",
       "Name: id, Length: 101, dtype: int64"
      ]
     },
     "execution_count": 52,
     "metadata": {},
     "output_type": "execute_result"
    }
   ],
   "source": [
    "releases_per_year = df.groupby('year').count()['id'] # id exists for every row\n",
    "releases_per_year # We see that in the past, we had significantly less songs than recent years"
   ]
  },
  {
   "cell_type": "code",
   "execution_count": 53,
   "id": "c5cdc17c",
   "metadata": {},
   "outputs": [],
   "source": [
    "# Let's grab from the dataframe years from 1991 and above, and hence we will have them organized in decades, i.e. :\n",
    "# 1991-2000, 2001-2010, 2011-2020\n",
    "recent_df = df[df['year'] >= 1991]"
   ]
  },
  {
   "cell_type": "code",
   "execution_count": 54,
   "id": "62fb4c33",
   "metadata": {},
   "outputs": [
    {
     "data": {
      "text/plain": [
       "year\n",
       "1991     8380\n",
       "1992     9639\n",
       "1993    11017\n",
       "1994    14130\n",
       "1995    17417\n",
       "1996    17840\n",
       "1997    20229\n",
       "1998    21013\n",
       "1999    25931\n",
       "2000    30575\n",
       "2001    29378\n",
       "2002    30861\n",
       "2003    34996\n",
       "2004    38696\n",
       "2005    49977\n",
       "2006    56945\n",
       "2007    56287\n",
       "2008    50475\n",
       "2009    45563\n",
       "2010    44550\n",
       "2011    45642\n",
       "2012    45108\n",
       "2013    49048\n",
       "2014    45005\n",
       "2015    46558\n",
       "2016    47427\n",
       "2017    51308\n",
       "2018    56167\n",
       "2019    67276\n",
       "2020    69726\n",
       "Name: id, dtype: int64"
      ]
     },
     "execution_count": 54,
     "metadata": {},
     "output_type": "execute_result"
    }
   ],
   "source": [
    "# Check the releases \n",
    "releases = recent_df.groupby('year').count()['id']\n",
    "releases"
   ]
  },
  {
   "cell_type": "code",
   "execution_count": 55,
   "id": "30687c61",
   "metadata": {},
   "outputs": [
    {
     "name": "stdout",
     "output_type": "stream",
     "text": [
      "Number of songs excluded: 66861\n",
      "Ratio of songs excluded from the original dataframe: 5.55 %\n"
     ]
    }
   ],
   "source": [
    "# How many songs did we excluded from the original dataframe? What is the ratio?\n",
    "excluded_songs = df.shape[0] - recent_df.shape[0]\n",
    "print(\"Number of songs excluded:\",excluded_songs)\n",
    "ratio = excluded_songs/df.shape[0] * 100\n",
    "print(\"Ratio of songs excluded from the original dataframe:\",np.round(ratio, 2),\"%\")"
   ]
  },
  {
   "cell_type": "code",
   "execution_count": 56,
   "id": "7a79ca98",
   "metadata": {},
   "outputs": [
    {
     "data": {
      "text/plain": [
       "(1137164, 28)"
      ]
     },
     "execution_count": 56,
     "metadata": {},
     "output_type": "execute_result"
    }
   ],
   "source": [
    "recent_df.shape"
   ]
  },
  {
   "cell_type": "code",
   "execution_count": 57,
   "id": "6c9ede24",
   "metadata": {},
   "outputs": [],
   "source": [
    "### Export 'recent_df' as csv file, in order to do the analysis\n",
    "recent_df.to_csv('merged_Spotify.csv', index = False)"
   ]
  }
 ],
 "metadata": {
  "kernelspec": {
   "display_name": "Python 3 (ipykernel)",
   "language": "python",
   "name": "python3"
  },
  "language_info": {
   "codemirror_mode": {
    "name": "ipython",
    "version": 3
   },
   "file_extension": ".py",
   "mimetype": "text/x-python",
   "name": "python",
   "nbconvert_exporter": "python",
   "pygments_lexer": "ipython3",
   "version": "3.8.10"
  }
 },
 "nbformat": 4,
 "nbformat_minor": 5
}
