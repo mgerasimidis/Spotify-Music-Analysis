{
 "cells": [
  {
   "cell_type": "code",
   "execution_count": 2,
   "id": "cc4e1d4d",
   "metadata": {},
   "outputs": [
    {
     "name": "stderr",
     "output_type": "stream",
     "text": [
      "<frozen importlib._bootstrap>:219: RuntimeWarning: scipy._lib.messagestream.MessageStream size changed, may indicate binary incompatibility. Expected 56 from C header, got 64 from PyObject\n"
     ]
    }
   ],
   "source": [
    "import pandas as pd\n",
    "import numpy as np\n",
    "import matplotlib.pyplot as plt\n",
    "from matplotlib.pyplot import figure\n",
    "import seaborn as sns"
   ]
  },
  {
   "cell_type": "code",
   "execution_count": 50,
   "id": "7f09253b",
   "metadata": {},
   "outputs": [],
   "source": [
    "df = pd.read_csv(r'C:\\Users\\KOSTAS\\Desktop\\projects\\E_D_A-projects-python\\Spotify_Analysis\\data\\merged_Spotify.csv')"
   ]
  },
  {
   "cell_type": "code",
   "execution_count": 51,
   "id": "a4a36373",
   "metadata": {},
   "outputs": [
    {
     "data": {
      "text/html": [
       "<div>\n",
       "<style scoped>\n",
       "    .dataframe tbody tr th:only-of-type {\n",
       "        vertical-align: middle;\n",
       "    }\n",
       "\n",
       "    .dataframe tbody tr th {\n",
       "        vertical-align: top;\n",
       "    }\n",
       "\n",
       "    .dataframe thead th {\n",
       "        text-align: right;\n",
       "    }\n",
       "</style>\n",
       "<table border=\"1\" class=\"dataframe\">\n",
       "  <thead>\n",
       "    <tr style=\"text-align: right;\">\n",
       "      <th></th>\n",
       "      <th>id</th>\n",
       "      <th>name</th>\n",
       "      <th>album</th>\n",
       "      <th>album_id</th>\n",
       "      <th>artists</th>\n",
       "      <th>artist_ids</th>\n",
       "      <th>track_number</th>\n",
       "      <th>disc_number</th>\n",
       "      <th>explicit</th>\n",
       "      <th>danceability</th>\n",
       "      <th>energy</th>\n",
       "      <th>key</th>\n",
       "      <th>loudness</th>\n",
       "      <th>mode</th>\n",
       "      <th>speechiness</th>\n",
       "      <th>acousticness</th>\n",
       "      <th>instrumentalness</th>\n",
       "      <th>liveness</th>\n",
       "      <th>valence</th>\n",
       "      <th>tempo</th>\n",
       "      <th>duration_ms</th>\n",
       "      <th>time_signature</th>\n",
       "      <th>year</th>\n",
       "      <th>month</th>\n",
       "      <th>release_date</th>\n",
       "      <th>playlist_genre</th>\n",
       "      <th>track_popularity</th>\n",
       "      <th>feat</th>\n",
       "    </tr>\n",
       "  </thead>\n",
       "  <tbody>\n",
       "    <tr>\n",
       "      <th>0</th>\n",
       "      <td>7lmeHLHBe4nmXzuXc0HDjk</td>\n",
       "      <td>Testify</td>\n",
       "      <td>The Battle Of Los Angeles</td>\n",
       "      <td>2eia0myWFgoHuttJytCxgX</td>\n",
       "      <td>['Rage Against The Machine']</td>\n",
       "      <td>['2d0hyoQ5ynDBnkvAbJKORj']</td>\n",
       "      <td>1</td>\n",
       "      <td>1</td>\n",
       "      <td>False</td>\n",
       "      <td>0.470</td>\n",
       "      <td>0.978</td>\n",
       "      <td>7</td>\n",
       "      <td>-5.399</td>\n",
       "      <td>1</td>\n",
       "      <td>0.0727</td>\n",
       "      <td>0.02610</td>\n",
       "      <td>0.000011</td>\n",
       "      <td>0.3560</td>\n",
       "      <td>0.503</td>\n",
       "      <td>117.906</td>\n",
       "      <td>210133</td>\n",
       "      <td>4.0</td>\n",
       "      <td>1999</td>\n",
       "      <td>11.0</td>\n",
       "      <td>1999-11-02</td>\n",
       "      <td>NaN</td>\n",
       "      <td>NaN</td>\n",
       "      <td>No</td>\n",
       "    </tr>\n",
       "    <tr>\n",
       "      <th>1</th>\n",
       "      <td>1wsRitfRRtWyEapl0q22o8</td>\n",
       "      <td>Guerrilla Radio</td>\n",
       "      <td>The Battle Of Los Angeles</td>\n",
       "      <td>2eia0myWFgoHuttJytCxgX</td>\n",
       "      <td>['Rage Against The Machine']</td>\n",
       "      <td>['2d0hyoQ5ynDBnkvAbJKORj']</td>\n",
       "      <td>2</td>\n",
       "      <td>1</td>\n",
       "      <td>True</td>\n",
       "      <td>0.599</td>\n",
       "      <td>0.957</td>\n",
       "      <td>11</td>\n",
       "      <td>-5.764</td>\n",
       "      <td>1</td>\n",
       "      <td>0.1880</td>\n",
       "      <td>0.01290</td>\n",
       "      <td>0.000071</td>\n",
       "      <td>0.1550</td>\n",
       "      <td>0.489</td>\n",
       "      <td>103.680</td>\n",
       "      <td>206200</td>\n",
       "      <td>4.0</td>\n",
       "      <td>1999</td>\n",
       "      <td>11.0</td>\n",
       "      <td>1999-11-02</td>\n",
       "      <td>rock</td>\n",
       "      <td>69.0</td>\n",
       "      <td>No</td>\n",
       "    </tr>\n",
       "    <tr>\n",
       "      <th>2</th>\n",
       "      <td>1hR0fIFK2qRG3f3RF70pb7</td>\n",
       "      <td>Calm Like a Bomb</td>\n",
       "      <td>The Battle Of Los Angeles</td>\n",
       "      <td>2eia0myWFgoHuttJytCxgX</td>\n",
       "      <td>['Rage Against The Machine']</td>\n",
       "      <td>['2d0hyoQ5ynDBnkvAbJKORj']</td>\n",
       "      <td>3</td>\n",
       "      <td>1</td>\n",
       "      <td>False</td>\n",
       "      <td>0.315</td>\n",
       "      <td>0.970</td>\n",
       "      <td>7</td>\n",
       "      <td>-5.424</td>\n",
       "      <td>1</td>\n",
       "      <td>0.4830</td>\n",
       "      <td>0.02340</td>\n",
       "      <td>0.000002</td>\n",
       "      <td>0.1220</td>\n",
       "      <td>0.370</td>\n",
       "      <td>149.749</td>\n",
       "      <td>298893</td>\n",
       "      <td>4.0</td>\n",
       "      <td>1999</td>\n",
       "      <td>11.0</td>\n",
       "      <td>1999-11-02</td>\n",
       "      <td>NaN</td>\n",
       "      <td>NaN</td>\n",
       "      <td>No</td>\n",
       "    </tr>\n",
       "    <tr>\n",
       "      <th>3</th>\n",
       "      <td>2lbASgTSoDO7MTuLAXlTW0</td>\n",
       "      <td>Mic Check</td>\n",
       "      <td>The Battle Of Los Angeles</td>\n",
       "      <td>2eia0myWFgoHuttJytCxgX</td>\n",
       "      <td>['Rage Against The Machine']</td>\n",
       "      <td>['2d0hyoQ5ynDBnkvAbJKORj']</td>\n",
       "      <td>4</td>\n",
       "      <td>1</td>\n",
       "      <td>True</td>\n",
       "      <td>0.440</td>\n",
       "      <td>0.967</td>\n",
       "      <td>11</td>\n",
       "      <td>-5.830</td>\n",
       "      <td>0</td>\n",
       "      <td>0.2370</td>\n",
       "      <td>0.16300</td>\n",
       "      <td>0.000004</td>\n",
       "      <td>0.1210</td>\n",
       "      <td>0.574</td>\n",
       "      <td>96.752</td>\n",
       "      <td>213640</td>\n",
       "      <td>4.0</td>\n",
       "      <td>1999</td>\n",
       "      <td>11.0</td>\n",
       "      <td>1999-11-02</td>\n",
       "      <td>NaN</td>\n",
       "      <td>NaN</td>\n",
       "      <td>No</td>\n",
       "    </tr>\n",
       "    <tr>\n",
       "      <th>4</th>\n",
       "      <td>1MQTmpYOZ6fcMQc56Hdo7T</td>\n",
       "      <td>Sleep Now In the Fire</td>\n",
       "      <td>The Battle Of Los Angeles</td>\n",
       "      <td>2eia0myWFgoHuttJytCxgX</td>\n",
       "      <td>['Rage Against The Machine']</td>\n",
       "      <td>['2d0hyoQ5ynDBnkvAbJKORj']</td>\n",
       "      <td>5</td>\n",
       "      <td>1</td>\n",
       "      <td>False</td>\n",
       "      <td>0.426</td>\n",
       "      <td>0.929</td>\n",
       "      <td>2</td>\n",
       "      <td>-6.729</td>\n",
       "      <td>1</td>\n",
       "      <td>0.0701</td>\n",
       "      <td>0.00162</td>\n",
       "      <td>0.105000</td>\n",
       "      <td>0.0789</td>\n",
       "      <td>0.539</td>\n",
       "      <td>127.059</td>\n",
       "      <td>205600</td>\n",
       "      <td>4.0</td>\n",
       "      <td>1999</td>\n",
       "      <td>11.0</td>\n",
       "      <td>1999-11-02</td>\n",
       "      <td>rap</td>\n",
       "      <td>66.0</td>\n",
       "      <td>No</td>\n",
       "    </tr>\n",
       "  </tbody>\n",
       "</table>\n",
       "</div>"
      ],
      "text/plain": [
       "                       id                   name                      album  \\\n",
       "0  7lmeHLHBe4nmXzuXc0HDjk                Testify  The Battle Of Los Angeles   \n",
       "1  1wsRitfRRtWyEapl0q22o8        Guerrilla Radio  The Battle Of Los Angeles   \n",
       "2  1hR0fIFK2qRG3f3RF70pb7       Calm Like a Bomb  The Battle Of Los Angeles   \n",
       "3  2lbASgTSoDO7MTuLAXlTW0              Mic Check  The Battle Of Los Angeles   \n",
       "4  1MQTmpYOZ6fcMQc56Hdo7T  Sleep Now In the Fire  The Battle Of Los Angeles   \n",
       "\n",
       "                 album_id                       artists  \\\n",
       "0  2eia0myWFgoHuttJytCxgX  ['Rage Against The Machine']   \n",
       "1  2eia0myWFgoHuttJytCxgX  ['Rage Against The Machine']   \n",
       "2  2eia0myWFgoHuttJytCxgX  ['Rage Against The Machine']   \n",
       "3  2eia0myWFgoHuttJytCxgX  ['Rage Against The Machine']   \n",
       "4  2eia0myWFgoHuttJytCxgX  ['Rage Against The Machine']   \n",
       "\n",
       "                   artist_ids  track_number  disc_number  explicit  \\\n",
       "0  ['2d0hyoQ5ynDBnkvAbJKORj']             1            1     False   \n",
       "1  ['2d0hyoQ5ynDBnkvAbJKORj']             2            1      True   \n",
       "2  ['2d0hyoQ5ynDBnkvAbJKORj']             3            1     False   \n",
       "3  ['2d0hyoQ5ynDBnkvAbJKORj']             4            1      True   \n",
       "4  ['2d0hyoQ5ynDBnkvAbJKORj']             5            1     False   \n",
       "\n",
       "   danceability  energy  key  loudness  mode  speechiness  acousticness  \\\n",
       "0         0.470   0.978    7    -5.399     1       0.0727       0.02610   \n",
       "1         0.599   0.957   11    -5.764     1       0.1880       0.01290   \n",
       "2         0.315   0.970    7    -5.424     1       0.4830       0.02340   \n",
       "3         0.440   0.967   11    -5.830     0       0.2370       0.16300   \n",
       "4         0.426   0.929    2    -6.729     1       0.0701       0.00162   \n",
       "\n",
       "   instrumentalness  liveness  valence    tempo  duration_ms  time_signature  \\\n",
       "0          0.000011    0.3560    0.503  117.906       210133             4.0   \n",
       "1          0.000071    0.1550    0.489  103.680       206200             4.0   \n",
       "2          0.000002    0.1220    0.370  149.749       298893             4.0   \n",
       "3          0.000004    0.1210    0.574   96.752       213640             4.0   \n",
       "4          0.105000    0.0789    0.539  127.059       205600             4.0   \n",
       "\n",
       "   year  month release_date playlist_genre  track_popularity feat  \n",
       "0  1999   11.0   1999-11-02            NaN               NaN   No  \n",
       "1  1999   11.0   1999-11-02           rock              69.0   No  \n",
       "2  1999   11.0   1999-11-02            NaN               NaN   No  \n",
       "3  1999   11.0   1999-11-02            NaN               NaN   No  \n",
       "4  1999   11.0   1999-11-02            rap              66.0   No  "
      ]
     },
     "execution_count": 51,
     "metadata": {},
     "output_type": "execute_result"
    }
   ],
   "source": [
    "pd.set_option(\"display.max_columns\", None)\n",
    "df.head()"
   ]
  },
  {
   "cell_type": "markdown",
   "id": "e41f0006",
   "metadata": {},
   "source": [
    "# General Analysis"
   ]
  },
  {
   "cell_type": "markdown",
   "id": "56d52e2d",
   "metadata": {},
   "source": [
    "### 1. Are releases of tracks increasing as years pass?"
   ]
  },
  {
   "cell_type": "code",
   "execution_count": 52,
   "id": "8dc6d5c8",
   "metadata": {},
   "outputs": [
    {
     "data": {
      "image/png": "[encoded data removed]",
      "text/plain": [
       "<Figure size 720x360 with 1 Axes>"
      ]
     },
     "metadata": {
      "needs_background": "light"
     },
     "output_type": "display_data"
    }
   ],
   "source": [
    "track_rel = df['year'].value_counts().sort_values(key = lambda x: x.keys())\n",
    "\n",
    "# plot\n",
    "plt.figure(figsize=(10,5))\n",
    "\n",
    "plt.plot(track_rel, color='green',marker='o',markerfacecolor='blue')\n",
    "plt.title('Releases of tracks from 1991 to 2020')\n",
    "plt.xlabel('Years')\n",
    "plt.ylabel('Count') \n",
    "plt.show()"
   ]
  },
  {
   "cell_type": "markdown",
   "id": "15c6b35d",
   "metadata": {},
   "source": [
    "### 2. Average number of tracks in album (and further relevant exploration)"
   ]
  },
  {
   "cell_type": "code",
   "execution_count": 53,
   "id": "2b5002c1",
   "metadata": {},
   "outputs": [
    {
     "name": "stdout",
     "output_type": "stream",
     "text": [
      "Maximum tracks in album: 50\n",
      "Minimum tracks in album: 1\n"
     ]
    }
   ],
   "source": [
    "num_songs = df['album_id'].value_counts().sort_values(key = lambda x: x.keys())\n",
    "print(\"Maximum tracks in album:\",num_songs.max())\n",
    "print(\"Minimum tracks in album:\",num_songs.min())"
   ]
  },
  {
   "cell_type": "code",
   "execution_count": 54,
   "id": "73bbbc30",
   "metadata": {},
   "outputs": [
    {
     "name": "stdout",
     "output_type": "stream",
     "text": [
      "Average tracks in album: 10 tracks\n"
     ]
    }
   ],
   "source": [
    "print(\"Average tracks in album:\",round(num_songs.mean()),\"tracks\")"
   ]
  },
  {
   "cell_type": "markdown",
   "id": "08a65cdb",
   "metadata": {},
   "source": [
    "#### How many albums have only 1 track?"
   ]
  },
  {
   "cell_type": "code",
   "execution_count": 55,
   "id": "bb8f5013",
   "metadata": {
    "scrolled": true
   },
   "outputs": [
    {
     "name": "stdout",
     "output_type": "stream",
     "text": [
      "20939 albums consist of only 1 track (singles)\n"
     ]
    }
   ],
   "source": [
    "print(len(num_songs[num_songs.values == 1]),\"albums consist of only 1 track (singles)\")"
   ]
  },
  {
   "cell_type": "markdown",
   "id": "9260a074",
   "metadata": {},
   "source": [
    "#### How does the average number of tracks in album changes over the years?"
   ]
  },
  {
   "cell_type": "code",
   "execution_count": 56,
   "id": "806c14a7",
   "metadata": {},
   "outputs": [],
   "source": [
    "my_years = [i for i in range(1991,2021)]\n",
    "avg_lst = []\n",
    "for year in my_years:\n",
    "    df_year = df[df['year'] == year]\n",
    "    years_mean = df_year.groupby('album_id').count()['id'].mean()\n",
    "    avg_lst.append(round(years_mean))\n",
    "avg_tr_alb_year = dict(zip(my_years,avg_lst))"
   ]
  },
  {
   "cell_type": "code",
   "execution_count": 57,
   "id": "2f4bd611",
   "metadata": {},
   "outputs": [
    {
     "data": {
      "text/plain": [
       "{1991: 13,\n",
       " 1992: 14,\n",
       " 1993: 13,\n",
       " 1994: 13,\n",
       " 1995: 14,\n",
       " 1996: 14,\n",
       " 1997: 14,\n",
       " 1998: 14,\n",
       " 1999: 14,\n",
       " 2000: 14,\n",
       " 2001: 13,\n",
       " 2002: 13,\n",
       " 2003: 13,\n",
       " 2004: 13,\n",
       " 2005: 13,\n",
       " 2006: 13,\n",
       " 2007: 13,\n",
       " 2008: 12,\n",
       " 2009: 12,\n",
       " 2010: 12,\n",
       " 2011: 11,\n",
       " 2012: 11,\n",
       " 2013: 10,\n",
       " 2014: 10,\n",
       " 2015: 9,\n",
       " 2016: 8,\n",
       " 2017: 8,\n",
       " 2018: 7,\n",
       " 2019: 6,\n",
       " 2020: 6}"
      ]
     },
     "execution_count": 57,
     "metadata": {},
     "output_type": "execute_result"
    }
   ],
   "source": [
    "avg_tr_alb_year"
   ]
  },
  {
   "cell_type": "code",
   "execution_count": 58,
   "id": "95780f99",
   "metadata": {},
   "outputs": [],
   "source": [
    "avg_tr_alb_year_ser = pd.Series(avg_tr_alb_year) # transform the dictionary to pandas series"
   ]
  },
  {
   "cell_type": "code",
   "execution_count": 59,
   "id": "9dd44679",
   "metadata": {
    "scrolled": true
   },
   "outputs": [
    {
     "data": {
      "image/png": "[encoded data removed]",
      "text/plain": [
       "<Figure size 720x360 with 1 Axes>"
      ]
     },
     "metadata": {
      "needs_background": "light"
     },
     "output_type": "display_data"
    }
   ],
   "source": [
    "# plot\n",
    "plt.figure(figsize=(10,5))\n",
    "\n",
    "plt.plot(avg_tr_alb_year_ser, color='blue',marker='.',markerfacecolor='red',markersize=10,markeredgecolor='red')\n",
    "plt.title('Average number of tracks in albums from 1991 to 2020')\n",
    "plt.xlabel('Years')\n",
    "plt.ylabel('No. of tracks') \n",
    "plt.grid()\n",
    "plt.show()\n",
    "# Obviously, the average number of tracks per album decreases as years pass"
   ]
  },
  {
   "cell_type": "markdown",
   "id": "66eca044",
   "metadata": {},
   "source": [
    "#### Number of albums per year"
   ]
  },
  {
   "cell_type": "code",
   "execution_count": 60,
   "id": "c2deda27",
   "metadata": {},
   "outputs": [],
   "source": [
    "# My idea: Each album begins from 'track_number' == 1. Hence it is enough to count how many such '1's exist, since we do not \n",
    "# care about how many tracks each album contains, but we do care about how many albums exist per year"
   ]
  },
  {
   "cell_type": "code",
   "execution_count": 61,
   "id": "3fabf4bb",
   "metadata": {},
   "outputs": [],
   "source": [
    "num_alb_year = []\n",
    "for year in my_years:\n",
    "    df_year = df[df['year'] == year]\n",
    "    sub_df_year = df_year[df_year['track_number'] == 1]\n",
    "    num_alb_year.append(len(sub_df_year))\n",
    "num_alb_year_dict = dict(zip(my_years,num_alb_year))\n",
    "num_alb_year_ser = pd.Series(num_alb_year_dict)"
   ]
  },
  {
   "cell_type": "code",
   "execution_count": 62,
   "id": "4921c41b",
   "metadata": {},
   "outputs": [
    {
     "data": {
      "image/png": "[encoded data removed]",
      "text/plain": [
       "<Figure size 720x360 with 1 Axes>"
      ]
     },
     "metadata": {
      "needs_background": "light"
     },
     "output_type": "display_data"
    }
   ],
   "source": [
    "# plot\n",
    "plt.figure(figsize=(10,5))\n",
    "\n",
    "num_alb_year_ser.plot.bar(rot = 45)\n",
    "plt.title('Number of albums from 1991 to 2020')\n",
    "plt.xlabel('Years')\n",
    "plt.ylabel('Amount') \n",
    "plt.show()\n",
    "\n",
    "# We waited for something like that, if we consider the plot at the beginning, counting the number of tracks per year"
   ]
  },
  {
   "cell_type": "markdown",
   "id": "b1eb66d2",
   "metadata": {},
   "source": [
    "### 3. Number of FEATS per year"
   ]
  },
  {
   "cell_type": "markdown",
   "id": "4265e41b",
   "metadata": {},
   "source": [
    "#### What is the ratio of tracks that are FEATs?"
   ]
  },
  {
   "cell_type": "code",
   "execution_count": 63,
   "id": "11af5288",
   "metadata": {},
   "outputs": [
    {
     "name": "stdout",
     "output_type": "stream",
     "text": [
      "The ratio of songs that are 'feat' is 23.36 %\n"
     ]
    }
   ],
   "source": [
    "feat_ratio = len(df[df['feat'] == 'Yes'])/df.shape[0] * 100\n",
    "print(\"The ratio of songs that are 'feat' is\",round(feat_ratio,2),\"%\")"
   ]
  },
  {
   "cell_type": "markdown",
   "id": "62a198cb",
   "metadata": {},
   "source": [
    "#### Do feats (i.e. cooperations) increase as years pass?"
   ]
  },
  {
   "cell_type": "code",
   "execution_count": 64,
   "id": "c3d6488f",
   "metadata": {},
   "outputs": [
    {
     "data": {
      "text/plain": [
       "year  feat\n",
       "1991  No      5244\n",
       "      Yes     3136\n",
       "1992  No      6391\n",
       "      Yes     3248\n",
       "1993  No      7149\n",
       "dtype: int64"
      ]
     },
     "execution_count": 64,
     "metadata": {},
     "output_type": "execute_result"
    }
   ],
   "source": [
    "feat_ser = df.groupby(['year', 'feat']).size()\n",
    "feat_ser.head(5)"
   ]
  },
  {
   "cell_type": "code",
   "execution_count": 65,
   "id": "4e0b51e1",
   "metadata": {},
   "outputs": [
    {
     "data": {
      "text/html": [
       "<div>\n",
       "<style scoped>\n",
       "    .dataframe tbody tr th:only-of-type {\n",
       "        vertical-align: middle;\n",
       "    }\n",
       "\n",
       "    .dataframe tbody tr th {\n",
       "        vertical-align: top;\n",
       "    }\n",
       "\n",
       "    .dataframe thead th {\n",
       "        text-align: right;\n",
       "    }\n",
       "</style>\n",
       "<table border=\"1\" class=\"dataframe\">\n",
       "  <thead>\n",
       "    <tr style=\"text-align: right;\">\n",
       "      <th>feat</th>\n",
       "      <th>No</th>\n",
       "      <th>Yes</th>\n",
       "    </tr>\n",
       "    <tr>\n",
       "      <th>year</th>\n",
       "      <th></th>\n",
       "      <th></th>\n",
       "    </tr>\n",
       "  </thead>\n",
       "  <tbody>\n",
       "    <tr>\n",
       "      <th>1991</th>\n",
       "      <td>5244</td>\n",
       "      <td>3136</td>\n",
       "    </tr>\n",
       "    <tr>\n",
       "      <th>1992</th>\n",
       "      <td>6391</td>\n",
       "      <td>3248</td>\n",
       "    </tr>\n",
       "    <tr>\n",
       "      <th>1993</th>\n",
       "      <td>7149</td>\n",
       "      <td>3868</td>\n",
       "    </tr>\n",
       "    <tr>\n",
       "      <th>1994</th>\n",
       "      <td>8890</td>\n",
       "      <td>5240</td>\n",
       "    </tr>\n",
       "    <tr>\n",
       "      <th>1995</th>\n",
       "      <td>10684</td>\n",
       "      <td>6733</td>\n",
       "    </tr>\n",
       "  </tbody>\n",
       "</table>\n",
       "</div>"
      ],
      "text/plain": [
       "feat     No   Yes\n",
       "year             \n",
       "1991   5244  3136\n",
       "1992   6391  3248\n",
       "1993   7149  3868\n",
       "1994   8890  5240\n",
       "1995  10684  6733"
      ]
     },
     "execution_count": 65,
     "metadata": {},
     "output_type": "execute_result"
    }
   ],
   "source": [
    "# Create a dataframe from the series above:\n",
    "feat_df = feat_ser.unstack(level = -1)\n",
    "\n",
    "feat_df.head()"
   ]
  },
  {
   "cell_type": "code",
   "execution_count": 66,
   "id": "64e73569",
   "metadata": {},
   "outputs": [
    {
     "data": {
      "text/html": [
       "<div>\n",
       "<style scoped>\n",
       "    .dataframe tbody tr th:only-of-type {\n",
       "        vertical-align: middle;\n",
       "    }\n",
       "\n",
       "    .dataframe tbody tr th {\n",
       "        vertical-align: top;\n",
       "    }\n",
       "\n",
       "    .dataframe thead th {\n",
       "        text-align: right;\n",
       "    }\n",
       "</style>\n",
       "<table border=\"1\" class=\"dataframe\">\n",
       "  <thead>\n",
       "    <tr style=\"text-align: right;\">\n",
       "      <th>feat</th>\n",
       "      <th>year</th>\n",
       "      <th>No</th>\n",
       "      <th>Yes</th>\n",
       "    </tr>\n",
       "  </thead>\n",
       "  <tbody>\n",
       "    <tr>\n",
       "      <th>0</th>\n",
       "      <td>1991</td>\n",
       "      <td>5244</td>\n",
       "      <td>3136</td>\n",
       "    </tr>\n",
       "    <tr>\n",
       "      <th>1</th>\n",
       "      <td>1992</td>\n",
       "      <td>6391</td>\n",
       "      <td>3248</td>\n",
       "    </tr>\n",
       "    <tr>\n",
       "      <th>2</th>\n",
       "      <td>1993</td>\n",
       "      <td>7149</td>\n",
       "      <td>3868</td>\n",
       "    </tr>\n",
       "    <tr>\n",
       "      <th>3</th>\n",
       "      <td>1994</td>\n",
       "      <td>8890</td>\n",
       "      <td>5240</td>\n",
       "    </tr>\n",
       "    <tr>\n",
       "      <th>4</th>\n",
       "      <td>1995</td>\n",
       "      <td>10684</td>\n",
       "      <td>6733</td>\n",
       "    </tr>\n",
       "  </tbody>\n",
       "</table>\n",
       "</div>"
      ],
      "text/plain": [
       "feat  year     No   Yes\n",
       "0     1991   5244  3136\n",
       "1     1992   6391  3248\n",
       "2     1993   7149  3868\n",
       "3     1994   8890  5240\n",
       "4     1995  10684  6733"
      ]
     },
     "execution_count": 66,
     "metadata": {},
     "output_type": "execute_result"
    }
   ],
   "source": [
    "modified_feat = feat_df.reset_index() # transform year to a column\n",
    "\n",
    "modified_feat.head()"
   ]
  },
  {
   "cell_type": "code",
   "execution_count": 67,
   "id": "061779e2",
   "metadata": {
    "scrolled": true
   },
   "outputs": [
    {
     "data": {
      "image/png": "[encoded data removed]",
      "text/plain": [
       "<Figure size 864x360 with 1 Axes>"
      ]
     },
     "metadata": {
      "needs_background": "light"
     },
     "output_type": "display_data"
    }
   ],
   "source": [
    "#plot\n",
    "\n",
    "modified_feat.plot(x='year', y=['No','Yes'], kind=\"bar\",rot=45,figsize=(12,5))\n",
    "plt.title('Number of tracks (feat or not) in album from 1991 to 2020')\n",
    "plt.xlabel('Years')\n",
    "plt.ylabel('No. of tracks') \n",
    "plt.show()\n",
    "# Slight increase of feats the last years, obviously, songs that are not feat are much more, except maybe early 1990's,\n",
    "# where we see that feats are almost the half of non feat songs "
   ]
  },
  {
   "cell_type": "code",
   "execution_count": 68,
   "id": "a94d6605",
   "metadata": {
    "scrolled": true
   },
   "outputs": [
    {
     "data": {
      "image/png": "[encoded data removed]",
      "text/plain": [
       "<Figure size 864x360 with 1 Axes>"
      ]
     },
     "metadata": {
      "needs_background": "light"
     },
     "output_type": "display_data"
    }
   ],
   "source": [
    "modified_feat.plot(x='year', y='Yes', kind=\"bar\",rot=45,figsize=(12,5))\n",
    "plt.title('Number of tracks that were feat from 1991 to 2020')\n",
    "plt.xlabel('Years')\n",
    "plt.ylabel('No. of tracks') \n",
    "plt.show()"
   ]
  },
  {
   "cell_type": "markdown",
   "id": "41d3cba7",
   "metadata": {},
   "source": [
    "### 4. Which month do the most track releases occure?"
   ]
  },
  {
   "cell_type": "code",
   "execution_count": 78,
   "id": "280b2717",
   "metadata": {},
   "outputs": [],
   "source": [
    "rel_per_month = df.groupby('month').count()['id']"
   ]
  },
  {
   "cell_type": "code",
   "execution_count": 79,
   "id": "946415e4",
   "metadata": {
    "scrolled": false
   },
   "outputs": [
    {
     "data": {
      "image/png": "[encoded data removed]",
      "text/plain": [
       "<Figure size 864x360 with 1 Axes>"
      ]
     },
     "metadata": {
      "needs_background": "light"
     },
     "output_type": "display_data"
    }
   ],
   "source": [
    "rel_per_month.plot(kind=\"bar\",rot=45,figsize=(12,5))\n",
    "plt.title('Total number of tracks per month')\n",
    "plt.xlabel('month')\n",
    "plt.ylabel('Number of tracks') \n",
    "plt.show()\n",
    "# We see that in January, there are significantly more track releases than the other months\n",
    "\n",
    "# We see that in December we have the least released tracks, probably because there is few time until the year pass\n",
    "# and hence the song will not be considered as \"hit\" of the upcoming year"
   ]
  },
  {
   "cell_type": "markdown",
   "id": "5a1c655b",
   "metadata": {},
   "source": [
    "#### Which month do most albums release (2015-2020)"
   ]
  },
  {
   "cell_type": "code",
   "execution_count": 80,
   "id": "e2c393c9",
   "metadata": {},
   "outputs": [],
   "source": [
    "rel_per_month_2015_2020 = df[df['year']>=2015].groupby('month').count()['album_id']"
   ]
  },
  {
   "cell_type": "code",
   "execution_count": 102,
   "id": "20074e59",
   "metadata": {
    "scrolled": false
   },
   "outputs": [
    {
     "data": {
      "image/png": "[encoded data removed]",
      "text/plain": [
       "<Figure size 864x360 with 1 Axes>"
      ]
     },
     "metadata": {
      "needs_background": "light"
     },
     "output_type": "display_data"
    }
   ],
   "source": [
    "rel_per_month_2015_2020.plot(kind=\"bar\",rot=45,figsize=(12,5))\n",
    "plt.title('Total number of albums per month (2015-2020)')\n",
    "plt.xlabel('month')\n",
    "plt.ylabel('Number of albums') \n",
    "plt.show()"
   ]
  },
  {
   "cell_type": "code",
   "execution_count": 104,
   "id": "4b3fa5d9",
   "metadata": {},
   "outputs": [
    {
     "data": {
      "image/png": "[encoded data removed]",
      "text/plain": [
       "<Figure size 432x288 with 1 Axes>"
      ]
     },
     "metadata": {
      "needs_background": "light"
     },
     "output_type": "display_data"
    }
   ],
   "source": [
    "plt.bar(rel_per_month.keys(), rel_per_month.values, color='b')\n",
    "plt.bar(rel_per_month_2015_2020.keys(), rel_per_month_2015_2020.values, color='grey')\n",
    "plt.legend([\"Total\",\"2015-2020\"])\n",
    "plt.show()"
   ]
  },
  {
   "cell_type": "markdown",
   "id": "1d6c20e8",
   "metadata": {},
   "source": [
    "#### Mean popularity of tracks per month (In total)"
   ]
  },
  {
   "cell_type": "code",
   "execution_count": 53,
   "id": "c0a41eac",
   "metadata": {},
   "outputs": [
    {
     "data": {
      "text/plain": [
       "month\n",
       "1.0     55.434211\n",
       "2.0     51.338843\n",
       "3.0     54.202703\n",
       "4.0     57.633880\n",
       "5.0     57.126984\n",
       "6.0     57.412556\n",
       "7.0     54.843243\n",
       "8.0     61.798942\n",
       "9.0     58.508197\n",
       "10.0    57.309963\n",
       "11.0    59.985185\n",
       "12.0    64.393103\n",
       "Name: track_popularity, dtype: float64"
      ]
     },
     "execution_count": 53,
     "metadata": {},
     "output_type": "execute_result"
    }
   ],
   "source": [
    "pop_per_month = df.groupby('month').mean()['track_popularity']\n",
    "pop_per_month"
   ]
  },
  {
   "cell_type": "code",
   "execution_count": 54,
   "id": "6449e6fc",
   "metadata": {},
   "outputs": [
    {
     "data": {
      "image/png": "[encoded data removed]",
      "text/plain": [
       "<Figure size 864x360 with 1 Axes>"
      ]
     },
     "metadata": {
      "needs_background": "light"
     },
     "output_type": "display_data"
    }
   ],
   "source": [
    "pop_per_month.plot(kind=\"bar\",rot=45,figsize=(12,5))\n",
    "plt.title('Mean popularity of tracks per month (from all the years)')\n",
    "plt.xlabel('month')\n",
    "plt.ylabel('Mean popularity of tracks') \n",
    "plt.show()"
   ]
  },
  {
   "cell_type": "markdown",
   "id": "2bf8738d",
   "metadata": {},
   "source": [
    "#### Mean popularity of tracks per month (for 2019)"
   ]
  },
  {
   "cell_type": "code",
   "execution_count": 55,
   "id": "039fb723",
   "metadata": {},
   "outputs": [
    {
     "data": {
      "text/plain": [
       "month\n",
       "1.0     63.250000\n",
       "2.0     55.800000\n",
       "3.0     60.392857\n",
       "4.0     63.948276\n",
       "5.0     67.630435\n",
       "6.0     63.943396\n",
       "7.0     64.307692\n",
       "8.0     66.312500\n",
       "9.0     61.258065\n",
       "10.0    65.848485\n",
       "11.0    63.369565\n",
       "12.0    67.666667\n",
       "Name: track_popularity, dtype: float64"
      ]
     },
     "execution_count": 55,
     "metadata": {},
     "output_type": "execute_result"
    }
   ],
   "source": [
    "pop_per_month_2019 = df[df['year']==2019].groupby('month').mean()['track_popularity']\n",
    "pop_per_month_2019"
   ]
  },
  {
   "cell_type": "code",
   "execution_count": 56,
   "id": "e7dc4251",
   "metadata": {
    "scrolled": true
   },
   "outputs": [
    {
     "data": {
      "image/png": "[encoded data removed]",
      "text/plain": [
       "<Figure size 864x360 with 1 Axes>"
      ]
     },
     "metadata": {
      "needs_background": "light"
     },
     "output_type": "display_data"
    }
   ],
   "source": [
    "pop_per_month_2019.plot(kind=\"bar\",rot=45,figsize=(12,5))\n",
    "plt.title('Mean popularity of tracks per month (in 2019)')\n",
    "plt.xlabel('month')\n",
    "plt.ylabel('Mean popularity of tracks') \n",
    "plt.show()"
   ]
  },
  {
   "cell_type": "code",
   "execution_count": 57,
   "id": "d92c6090",
   "metadata": {},
   "outputs": [],
   "source": [
    "# We observe that although in December we have the least released tracks, their mean popularity is the highest"
   ]
  },
  {
   "cell_type": "markdown",
   "id": "7c3f774d",
   "metadata": {},
   "source": [
    "# Analysis part_1"
   ]
  },
  {
   "cell_type": "markdown",
   "id": "26b7c796",
   "metadata": {},
   "source": [
    "### 1. Which are the most popular music genres today and how have they varied in the past years?"
   ]
  },
  {
   "cell_type": "code",
   "execution_count": 106,
   "id": "646dd306",
   "metadata": {},
   "outputs": [
    {
     "name": "stdout",
     "output_type": "stream",
     "text": [
      "69695 out of 69726 songs in 2020 have no value for 'track_popularity'\n"
     ]
    }
   ],
   "source": [
    "print(df[df['year'] == 2020]['track_popularity'].value_counts(dropna=False).head(1).values[0],\"out of\",\n",
    "      len(df[df['year']==2020])\n",
    "     ,\"songs in 2020 have no value for 'track_popularity'\")"
   ]
  },
  {
   "cell_type": "markdown",
   "id": "3a45eb5e",
   "metadata": {},
   "source": [
    "#### Lets see the results from 2011 - 2019 "
   ]
  },
  {
   "cell_type": "code",
   "execution_count": 107,
   "id": "b73cc1f8",
   "metadata": {
    "scrolled": true
   },
   "outputs": [
    {
     "name": "stdout",
     "output_type": "stream",
     "text": [
      "Top genres for the year 2011 are:\n",
      "\n",
      "\n",
      "playlist_genre\n",
      "pop      65.666667\n",
      "rock     63.250000\n",
      "latin    58.000000\n",
      "edm      55.000000\n",
      "r&b      47.500000\n",
      "rap      43.000000\n",
      "Name: track_popularity, dtype: float64\n",
      "\n",
      "\n",
      "Top genres for the year 2012 are:\n",
      "\n",
      "\n",
      "playlist_genre\n",
      "pop      70.750000\n",
      "latin    66.000000\n",
      "edm      46.666667\n",
      "r&b      39.500000\n",
      "rap      36.833333\n",
      "Name: track_popularity, dtype: float64\n",
      "\n",
      "\n",
      "Top genres for the year 2013 are:\n",
      "\n",
      "\n",
      "playlist_genre\n",
      "rock     64.75000\n",
      "pop      60.47619\n",
      "rap      52.80000\n",
      "latin    44.00000\n",
      "edm      42.00000\n",
      "r&b      39.50000\n",
      "Name: track_popularity, dtype: float64\n",
      "\n",
      "\n",
      "Top genres for the year 2014 are:\n",
      "\n",
      "\n",
      "playlist_genre\n",
      "pop      62.478261\n",
      "rock     57.800000\n",
      "r&b      47.111111\n",
      "edm      46.200000\n",
      "rap      41.700000\n",
      "latin    34.666667\n",
      "Name: track_popularity, dtype: float64\n",
      "\n",
      "\n",
      "Top genres for the year 2015 are:\n",
      "\n",
      "\n",
      "playlist_genre\n",
      "pop      63.800000\n",
      "rap      58.894737\n",
      "r&b      54.541667\n",
      "latin    46.857143\n",
      "rock     46.444444\n",
      "edm      45.846154\n",
      "Name: track_popularity, dtype: float64\n",
      "\n",
      "\n",
      "Top genres for the year 2016 are:\n",
      "\n",
      "\n",
      "playlist_genre\n",
      "latin    63.909091\n",
      "pop      59.276596\n",
      "rock     54.583333\n",
      "rap      53.176471\n",
      "edm      52.136364\n",
      "r&b      50.195652\n",
      "Name: track_popularity, dtype: float64\n",
      "\n",
      "\n",
      "Top genres for the year 2017 are:\n",
      "\n",
      "\n",
      "playlist_genre\n",
      "latin    66.451613\n",
      "pop      63.824561\n",
      "r&b      62.636364\n",
      "rap      61.428571\n",
      "rock     47.526316\n",
      "edm      43.548387\n",
      "Name: track_popularity, dtype: float64\n",
      "\n",
      "\n",
      "Top genres for the year 2018 are:\n",
      "\n",
      "\n",
      "playlist_genre\n",
      "latin    66.924528\n",
      "r&b      64.707317\n",
      "rap      64.460317\n",
      "pop      62.785714\n",
      "rock     49.696970\n",
      "edm      48.823529\n",
      "Name: track_popularity, dtype: float64\n",
      "\n",
      "\n",
      "Top genres for the year 2019 are:\n",
      "\n",
      "\n",
      "playlist_genre\n",
      "pop      68.970760\n",
      "latin    68.231707\n",
      "rap      68.032000\n",
      "r&b      63.738739\n",
      "rock     52.561404\n",
      "edm      51.762500\n",
      "Name: track_popularity, dtype: float64\n",
      "\n",
      "\n"
     ]
    }
   ],
   "source": [
    "recent_years = [i for i in range(2011,2020)]\n",
    "top_genres_lst = []\n",
    "\n",
    "pop_mean = []\n",
    "latin_mean = []\n",
    "rock_mean = []\n",
    "edm_mean = []\n",
    "rb_mean = []\n",
    "rap_mean = []\n",
    "\n",
    "for year in recent_years:\n",
    "    df_year = df[df['year'] == year] \n",
    "    top_genres = df_year.groupby('playlist_genre').mean()['track_popularity'].sort_values(ascending = False)\n",
    "    top_genres_lst.append(top_genres.head(1).keys()[0])\n",
    "    \n",
    "    # Plot the mean values per year for each genre\n",
    "    pop_mean.append(top_genres['pop'])\n",
    "    latin_mean.append(top_genres['latin'])\n",
    "    \n",
    "    #2012 has no rock songs\n",
    "    if 'rock' in top_genres.keys():\n",
    "        rock_mean.append(top_genres['rock'])\n",
    "    \n",
    "    edm_mean.append(top_genres['edm'])\n",
    "    rb_mean.append(top_genres['r&b'])\n",
    "    rap_mean.append(top_genres['rap'])\n",
    "    \n",
    "    print(\"Top genres for the year\",year,\"are:\")\n",
    "    print(\"\\n\")\n",
    "    print(top_genres)\n",
    "    print(\"\\n\")"
   ]
  },
  {
   "cell_type": "code",
   "execution_count": 108,
   "id": "3e2f4b63",
   "metadata": {},
   "outputs": [
    {
     "name": "stdout",
     "output_type": "stream",
     "text": [
      "pop was the most popular genre for 5 years, from 2011-2019, followed by latin\n"
     ]
    }
   ],
   "source": [
    "top_genres_lst1 = [genre for genre in top_genres_lst if genre != max(set(top_genres_lst), key = top_genres_lst.count)]\n",
    "print(max(set(top_genres_lst), key = top_genres_lst.count),\"was the most popular genre for\",\n",
    "      top_genres_lst.count(max(set(top_genres_lst), key = top_genres_lst.count)), \n",
    "      \"years, from 2011-2019, followed by\",\n",
    "     max(set(top_genres_lst1), key = top_genres_lst1.count))"
   ]
  },
  {
   "cell_type": "code",
   "execution_count": 114,
   "id": "cf60e069",
   "metadata": {},
   "outputs": [
    {
     "data": {
      "image/png": "[encoded data removed]",
      "text/plain": [
       "<Figure size 1152x360 with 1 Axes>"
      ]
     },
     "metadata": {
      "needs_background": "light"
     },
     "output_type": "display_data"
    }
   ],
   "source": [
    "plt.figure(figsize=(16,5))\n",
    "\n",
    "plt.plot(recent_years , pop_mean, color='red', label='pop',marker='o')\n",
    "plt.plot(recent_years, rap_mean, color='blue', label='rap',marker='>')\n",
    "\n",
    "# no 'rock' records in 2012\n",
    "plt.plot([i for i in range(2011,2020) if i != 2012], rock_mean, color='green', label='rock', marker = '.')\n",
    "\n",
    "plt.plot(recent_years, latin_mean, color='yellow', label='latin', marker = 's')\n",
    "plt.plot(recent_years, rb_mean, color='purple', label='r&b', marker = '*')\n",
    "plt.plot(recent_years, edm_mean, color='black', label='edm', marker = 'x')\n",
    "plt.legend()\n",
    "\n",
    "plt.xlabel('Year')\n",
    "plt.ylabel('Mean popularity') \n",
    "plt.title('Mean popularity per genre (from 2011-2019)')\n",
    "plt.show()"
   ]
  },
  {
   "cell_type": "markdown",
   "id": "59d8130d",
   "metadata": {},
   "source": [
    "#### Releases per genre from 2011 to 2019"
   ]
  },
  {
   "cell_type": "code",
   "execution_count": 110,
   "id": "13f547d7",
   "metadata": {
    "scrolled": true
   },
   "outputs": [
    {
     "name": "stderr",
     "output_type": "stream",
     "text": [
      "C:\\Users\\KOSTAS\\AppData\\Local\\Temp/ipykernel_15408/3532922393.py:5: FutureWarning: The frame.append method is deprecated and will be removed from pandas in a future version. Use pandas.concat instead.\n",
      "  decade_df = decade_df.append(y_df)\n",
      "C:\\Users\\KOSTAS\\AppData\\Local\\Temp/ipykernel_15408/3532922393.py:5: FutureWarning: The frame.append method is deprecated and will be removed from pandas in a future version. Use pandas.concat instead.\n",
      "  decade_df = decade_df.append(y_df)\n",
      "C:\\Users\\KOSTAS\\AppData\\Local\\Temp/ipykernel_15408/3532922393.py:5: FutureWarning: The frame.append method is deprecated and will be removed from pandas in a future version. Use pandas.concat instead.\n",
      "  decade_df = decade_df.append(y_df)\n",
      "C:\\Users\\KOSTAS\\AppData\\Local\\Temp/ipykernel_15408/3532922393.py:5: FutureWarning: The frame.append method is deprecated and will be removed from pandas in a future version. Use pandas.concat instead.\n",
      "  decade_df = decade_df.append(y_df)\n",
      "C:\\Users\\KOSTAS\\AppData\\Local\\Temp/ipykernel_15408/3532922393.py:5: FutureWarning: The frame.append method is deprecated and will be removed from pandas in a future version. Use pandas.concat instead.\n",
      "  decade_df = decade_df.append(y_df)\n",
      "C:\\Users\\KOSTAS\\AppData\\Local\\Temp/ipykernel_15408/3532922393.py:5: FutureWarning: The frame.append method is deprecated and will be removed from pandas in a future version. Use pandas.concat instead.\n",
      "  decade_df = decade_df.append(y_df)\n",
      "C:\\Users\\KOSTAS\\AppData\\Local\\Temp/ipykernel_15408/3532922393.py:5: FutureWarning: The frame.append method is deprecated and will be removed from pandas in a future version. Use pandas.concat instead.\n",
      "  decade_df = decade_df.append(y_df)\n",
      "C:\\Users\\KOSTAS\\AppData\\Local\\Temp/ipykernel_15408/3532922393.py:5: FutureWarning: The frame.append method is deprecated and will be removed from pandas in a future version. Use pandas.concat instead.\n",
      "  decade_df = decade_df.append(y_df)\n",
      "C:\\Users\\KOSTAS\\AppData\\Local\\Temp/ipykernel_15408/3532922393.py:5: FutureWarning: The frame.append method is deprecated and will be removed from pandas in a future version. Use pandas.concat instead.\n",
      "  decade_df = decade_df.append(y_df)\n"
     ]
    }
   ],
   "source": [
    "# Create a dataframe using 'df', grabbing only years from 2011-2019\n",
    "decade_df = pd.DataFrame() # empty dataframe\n",
    "for year in recent_years:\n",
    "    y_df = df[df['year'] == year]\n",
    "    decade_df = decade_df.append(y_df)"
   ]
  },
  {
   "cell_type": "code",
   "execution_count": 111,
   "id": "bcbf7164",
   "metadata": {},
   "outputs": [],
   "source": [
    "# pop \n",
    "pop_df = decade_df[decade_df['playlist_genre'] == 'pop']\n",
    "pop_releases = pop_df.groupby('year').count()['id']\n",
    "\n",
    "#rap\n",
    "rap_df = decade_df[decade_df['playlist_genre'] == 'rap']\n",
    "rap_releases = rap_df.groupby('year').count()['id']\n",
    "\n",
    "#rock\n",
    "rock_df = decade_df[decade_df['playlist_genre'] == 'rock']\n",
    "rock_releases = rock_df.groupby('year').count()['id']\n",
    "\n",
    "#latin\n",
    "latin_df = decade_df[decade_df['playlist_genre'] == 'latin']\n",
    "latin_releases = latin_df.groupby('year').count()['id']\n",
    "\n",
    "#r&b\n",
    "rb_df = decade_df[decade_df['playlist_genre'] == 'r&b']\n",
    "rb_releases = rb_df.groupby('year').count()['id']\n",
    "\n",
    "#edm\n",
    "edm_df = decade_df[decade_df['playlist_genre'] == 'edm']\n",
    "edm_releases = edm_df.groupby('year').count()['id']"
   ]
  },
  {
   "cell_type": "code",
   "execution_count": 112,
   "id": "bf36aa1d",
   "metadata": {
    "scrolled": false
   },
   "outputs": [
    {
     "data": {
      "image/png": "[encoded data removed]",
      "text/plain": [
       "<Figure size 1152x576 with 1 Axes>"
      ]
     },
     "metadata": {
      "needs_background": "light"
     },
     "output_type": "display_data"
    }
   ],
   "source": [
    "plt.figure(figsize=(16,8))\n",
    "\n",
    "plt.plot(pop_releases, color='red', label='pop',marker='o')\n",
    "plt.plot(rap_releases, color='blue', label='rap',marker='>')\n",
    "plt.plot(rock_releases, color='green', label='rock', marker = '.')\n",
    "plt.plot(latin_releases, color='yellow', label='latin', marker = 's')\n",
    "plt.plot(rb_releases, color='purple', label='r&b', marker = '*')\n",
    "plt.plot(edm_releases, color='black', label='edm', marker = 'x')\n",
    "plt.legend()\n",
    "plt.xlabel('Year')\n",
    "plt.ylabel('No. of releases') \n",
    "plt.title('Releases per genre (from 2011-2019)')\n",
    "plt.savefig(\"rel_per_genre.png\")\n",
    "plt.show()\n",
    "\n",
    "# We can see that the most released genre in these years was 'pop'"
   ]
  },
  {
   "cell_type": "markdown",
   "id": "cb764aba",
   "metadata": {},
   "source": [
    "### Quick Dataframe transformation"
   ]
  },
  {
   "cell_type": "code",
   "execution_count": 113,
   "id": "20617434",
   "metadata": {},
   "outputs": [
    {
     "data": {
      "text/plain": [
       "\"\\nCorrected the 'artists' column, that was transformed incorrectly during the data cleaning.\\nMoreover, added a column 'main_artist' to get the first artist of the track, if there were more than two.\\n\""
      ]
     },
     "execution_count": 113,
     "metadata": {},
     "output_type": "execute_result"
    }
   ],
   "source": [
    "\"\"\"\n",
    "Corrected the 'artists' column, that was transformed incorrectly during the data cleaning.\n",
    "Moreover, added a column 'main_artist' to get the first artist of the track, if there were more than two.\n",
    "\"\"\""
   ]
  },
  {
   "cell_type": "markdown",
   "id": "5f9763ea",
   "metadata": {},
   "source": [
    "#### Problem with songs that are feats:"
   ]
  },
  {
   "cell_type": "code",
   "execution_count": 66,
   "id": "750378dd",
   "metadata": {},
   "outputs": [
    {
     "data": {
      "text/html": [
       "<div>\n",
       "<style scoped>\n",
       "    .dataframe tbody tr th:only-of-type {\n",
       "        vertical-align: middle;\n",
       "    }\n",
       "\n",
       "    .dataframe tbody tr th {\n",
       "        vertical-align: top;\n",
       "    }\n",
       "\n",
       "    .dataframe thead th {\n",
       "        text-align: right;\n",
       "    }\n",
       "</style>\n",
       "<table border=\"1\" class=\"dataframe\">\n",
       "  <thead>\n",
       "    <tr style=\"text-align: right;\">\n",
       "      <th></th>\n",
       "      <th>id</th>\n",
       "      <th>name</th>\n",
       "      <th>album</th>\n",
       "      <th>album_id</th>\n",
       "      <th>artists</th>\n",
       "      <th>artist_ids</th>\n",
       "      <th>track_number</th>\n",
       "      <th>disc_number</th>\n",
       "      <th>explicit</th>\n",
       "      <th>danceability</th>\n",
       "      <th>energy</th>\n",
       "      <th>key</th>\n",
       "      <th>loudness</th>\n",
       "      <th>mode</th>\n",
       "      <th>speechiness</th>\n",
       "      <th>acousticness</th>\n",
       "      <th>instrumentalness</th>\n",
       "      <th>liveness</th>\n",
       "      <th>valence</th>\n",
       "      <th>tempo</th>\n",
       "      <th>duration_ms</th>\n",
       "      <th>time_signature</th>\n",
       "      <th>year</th>\n",
       "      <th>month</th>\n",
       "      <th>release_date</th>\n",
       "      <th>playlist_genre</th>\n",
       "      <th>track_popularity</th>\n",
       "      <th>feat</th>\n",
       "    </tr>\n",
       "  </thead>\n",
       "  <tbody>\n",
       "    <tr>\n",
       "      <th>790048</th>\n",
       "      <td>6f807x0ima9a1j3VPbc7VN</td>\n",
       "      <td>I Don't Care (with Justin Bieber) - Loud Luxur...</td>\n",
       "      <td>I Don't Care (with Justin Bieber) [Loud Luxury...</td>\n",
       "      <td>2oCs0DGTsRO98Gh5ZSl2Cx</td>\n",
       "      <td>['Ed Sheeran', 'Justin Bieber', 'Loud Luxury']</td>\n",
       "      <td>['6eUKZXaKkcviH0Ku9w2n3V', '1uNFoZAHBGtllmzznp...</td>\n",
       "      <td>1</td>\n",
       "      <td>1</td>\n",
       "      <td>False</td>\n",
       "      <td>0.748</td>\n",
       "      <td>0.916</td>\n",
       "      <td>6</td>\n",
       "      <td>-2.634</td>\n",
       "      <td>1</td>\n",
       "      <td>0.0583</td>\n",
       "      <td>0.102</td>\n",
       "      <td>0.0</td>\n",
       "      <td>0.0653</td>\n",
       "      <td>0.518</td>\n",
       "      <td>122.036</td>\n",
       "      <td>194754</td>\n",
       "      <td>4.0</td>\n",
       "      <td>2019</td>\n",
       "      <td>6.0</td>\n",
       "      <td>2019-06-14</td>\n",
       "      <td>pop</td>\n",
       "      <td>66.0</td>\n",
       "      <td>Yes</td>\n",
       "    </tr>\n",
       "  </tbody>\n",
       "</table>\n",
       "</div>"
      ],
      "text/plain": [
       "                            id  \\\n",
       "790048  6f807x0ima9a1j3VPbc7VN   \n",
       "\n",
       "                                                     name  \\\n",
       "790048  I Don't Care (with Justin Bieber) - Loud Luxur...   \n",
       "\n",
       "                                                    album  \\\n",
       "790048  I Don't Care (with Justin Bieber) [Loud Luxury...   \n",
       "\n",
       "                      album_id  \\\n",
       "790048  2oCs0DGTsRO98Gh5ZSl2Cx   \n",
       "\n",
       "                                               artists  \\\n",
       "790048  ['Ed Sheeran', 'Justin Bieber', 'Loud Luxury']   \n",
       "\n",
       "                                               artist_ids  track_number  \\\n",
       "790048  ['6eUKZXaKkcviH0Ku9w2n3V', '1uNFoZAHBGtllmzznp...             1   \n",
       "\n",
       "        disc_number  explicit  danceability  energy  key  loudness  mode  \\\n",
       "790048            1     False         0.748   0.916    6    -2.634     1   \n",
       "\n",
       "        speechiness  acousticness  instrumentalness  liveness  valence  \\\n",
       "790048       0.0583         0.102               0.0    0.0653    0.518   \n",
       "\n",
       "          tempo  duration_ms  time_signature  year  month release_date  \\\n",
       "790048  122.036       194754             4.0  2019    6.0   2019-06-14   \n",
       "\n",
       "       playlist_genre  track_popularity feat  \n",
       "790048            pop              66.0  Yes  "
      ]
     },
     "execution_count": 66,
     "metadata": {},
     "output_type": "execute_result"
    }
   ],
   "source": [
    "df[df['id'] == '6f807x0ima9a1j3VPbc7VN']\n",
    "# Here, although 'Ed Sheeran' is in the artists, it will be counted as his song, since there are other artists as well"
   ]
  },
  {
   "cell_type": "code",
   "execution_count": 44,
   "id": "25b4b055",
   "metadata": {},
   "outputs": [],
   "source": [
    "def my_func(string):\n",
    "    a = string.replace(\"]\",\"\")\n",
    "    b = a.replace(\"[\",\"\")\n",
    "    c = b.split(',')\n",
    "    return c"
   ]
  },
  {
   "cell_type": "code",
   "execution_count": 45,
   "id": "1ec503c8",
   "metadata": {},
   "outputs": [],
   "source": [
    "df['artists'] = list(map(my_func,df['artists']))"
   ]
  },
  {
   "cell_type": "code",
   "execution_count": 70,
   "id": "7593c37a",
   "metadata": {},
   "outputs": [],
   "source": [
    "def grab_first(lst):\n",
    "    return lst[0]"
   ]
  },
  {
   "cell_type": "code",
   "execution_count": 71,
   "id": "add07248",
   "metadata": {},
   "outputs": [],
   "source": [
    "# I will make the assumption that the artist who appears first, is the main artist of the song\n",
    "df.insert(4,\"main_artist\",df['artists'].apply(grab_first))"
   ]
  },
  {
   "cell_type": "markdown",
   "id": "170e63e4",
   "metadata": {},
   "source": [
    "#### Observation"
   ]
  },
  {
   "cell_type": "code",
   "execution_count": null,
   "id": "458a9337",
   "metadata": {},
   "outputs": [],
   "source": [
    "\"\"\"\n",
    "Grabing only the first artist like above, there is a problem. When, next, we will count how many tracks an artist has done,\n",
    "using the main artist column, we will ommit those who were feat with him. For example, if a track is made by [future, weeknd],\n",
    "using the 'main_artist' column, we will only use future. An idea to take care of that would be the following:\n",
    "\n",
    "In the artists column (which contains list of artists), we must find that with the most artist.\n",
    "\n",
    "This could be done as follows:\n",
    "Create a list with elements of 'artists' column, then make a set so we do not have duplicates.\n",
    "Then we can define a function which finds the maximum length of a list, inside a nested list.\n",
    "So if we find for example that max len == 4, meaning that we have 4 artists, we can create, besides 'main_artist' column,\n",
    "3 other columns (2nd_artist,3rd_artist,4rth_artist). There we will put the artists, and if a song has say only 2 artists,\n",
    "the '3rd_artist', '4rth_artist' columns will be NaN.\n",
    "Then we could count on these 4 columns, about how many tracks an artist has.\n",
    "\"\"\""
   ]
  },
  {
   "cell_type": "markdown",
   "id": "209cbbea",
   "metadata": {},
   "source": [
    "### 2. Which artists are in the top 10 list? Which of them was in the same list the previous 3 years?"
   ]
  },
  {
   "cell_type": "code",
   "execution_count": 72,
   "id": "3e9bcf4c",
   "metadata": {},
   "outputs": [
    {
     "name": "stdout",
     "output_type": "stream",
     "text": [
      "Number of tracks in 2020 that have 'track_popularity' record: 31 out of 69726 tracks\n"
     ]
    }
   ],
   "source": [
    "print(\"Number of tracks in 2020 that have 'track_popularity' record:\",sum(df[df['year'] == 2020]['track_popularity'].value_counts())\n",
    "     ,\"out of\",len(df[df['year'] == 2020]),\"tracks\")"
   ]
  },
  {
   "cell_type": "markdown",
   "id": "8e161809",
   "metadata": {},
   "source": [
    "#### Since we have too few records, we will work for 2016,2017,2018,2019"
   ]
  },
  {
   "cell_type": "code",
   "execution_count": 73,
   "id": "61b4fdb7",
   "metadata": {},
   "outputs": [
    {
     "name": "stdout",
     "output_type": "stream",
     "text": [
      "Number of tracks in 2019 that have 'track_popularity' record: 626 out of 69726 tracks\n"
     ]
    }
   ],
   "source": [
    "print(\"Number of tracks in 2019 that have 'track_popularity' record:\",len(df.loc[(df['year'] == 2019) & (df['track_popularity']>=0)])\n",
    "     ,\"out of\",len(df[df['year'] == 2020]),\"tracks\")"
   ]
  },
  {
   "cell_type": "markdown",
   "id": "aceacf98",
   "metadata": {},
   "source": [
    "#### Top 10 artists for 2019"
   ]
  },
  {
   "cell_type": "code",
   "execution_count": 74,
   "id": "92d85a42",
   "metadata": {},
   "outputs": [],
   "source": [
    "df_2019 = df[(df['year'] == 2019) & (df['track_popularity']>=0)]"
   ]
  },
  {
   "cell_type": "code",
   "execution_count": 75,
   "id": "c339b74b",
   "metadata": {},
   "outputs": [
    {
     "data": {
      "text/plain": [
       "main_artist\n",
       "'Tones And I'       100.0\n",
       "'Roddy Ricch'        98.0\n",
       "'Dua Lipa'           97.0\n",
       "'Camila Cabello'     94.0\n",
       "'Travis Scott'       94.0\n",
       "'Regard'             94.0\n",
       "'Anuel AA'           93.0\n",
       "'Y2K'                91.0\n",
       "'Lil Uzi Vert'       91.0\n",
       "'Ed Sheeran'         91.0\n",
       "Name: track_popularity, dtype: float64"
      ]
     },
     "execution_count": 75,
     "metadata": {},
     "output_type": "execute_result"
    }
   ],
   "source": [
    "artists_top_track = df_2019.groupby('main_artist').max()['track_popularity'].sort_values(ascending=False).head(50)\n",
    "artists_top_track.head(10) # Display the top-10 of the list"
   ]
  },
  {
   "cell_type": "markdown",
   "id": "25533897",
   "metadata": {},
   "source": [
    "#### Notice: The result above is misleading, since we obtain the 'hits' of 2019. For example:"
   ]
  },
  {
   "cell_type": "code",
   "execution_count": 76,
   "id": "46ac3764",
   "metadata": {
    "scrolled": false
   },
   "outputs": [
    {
     "name": "stdout",
     "output_type": "stream",
     "text": [
      "Number of tracks 'Tones and I' released in 2019: 7\n",
      "Mean track popularity of 'Tones and I' tracks: 78.71428571428571\n"
     ]
    }
   ],
   "source": [
    "print(\"Number of tracks 'Tones and I' released in 2019:\",len(df_2019[df_2019['main_artist'] == \"'Tones And I'\"]))\n",
    "print(\"Mean track popularity of 'Tones and I' tracks:\",df_2019.groupby('main_artist').mean()['track_popularity'][\"'Tones And I'\"])"
   ]
  },
  {
   "cell_type": "code",
   "execution_count": 77,
   "id": "e8c91f94",
   "metadata": {},
   "outputs": [
    {
     "data": {
      "text/html": [
       "<div>\n",
       "<style scoped>\n",
       "    .dataframe tbody tr th:only-of-type {\n",
       "        vertical-align: middle;\n",
       "    }\n",
       "\n",
       "    .dataframe tbody tr th {\n",
       "        vertical-align: top;\n",
       "    }\n",
       "\n",
       "    .dataframe thead th {\n",
       "        text-align: right;\n",
       "    }\n",
       "</style>\n",
       "<table border=\"1\" class=\"dataframe\">\n",
       "  <thead>\n",
       "    <tr style=\"text-align: right;\">\n",
       "      <th></th>\n",
       "      <th>name</th>\n",
       "      <th>album</th>\n",
       "      <th>track_popularity</th>\n",
       "    </tr>\n",
       "  </thead>\n",
       "  <tbody>\n",
       "    <tr>\n",
       "      <th>0</th>\n",
       "      <td>Dance Monkey</td>\n",
       "      <td>Dance Monkey (Stripped Back) / Dance Monkey</td>\n",
       "      <td>100.0</td>\n",
       "    </tr>\n",
       "    <tr>\n",
       "      <th>1</th>\n",
       "      <td>Dance Monkey</td>\n",
       "      <td>The Kids Are Coming</td>\n",
       "      <td>92.0</td>\n",
       "    </tr>\n",
       "    <tr>\n",
       "      <th>2</th>\n",
       "      <td>Never Seen The Rain</td>\n",
       "      <td>The Kids Are Coming</td>\n",
       "      <td>84.0</td>\n",
       "    </tr>\n",
       "    <tr>\n",
       "      <th>3</th>\n",
       "      <td>Johnny Run Away</td>\n",
       "      <td>The Kids Are Coming</td>\n",
       "      <td>71.0</td>\n",
       "    </tr>\n",
       "    <tr>\n",
       "      <th>4</th>\n",
       "      <td>The Kids Are Coming</td>\n",
       "      <td>The Kids Are Coming</td>\n",
       "      <td>69.0</td>\n",
       "    </tr>\n",
       "    <tr>\n",
       "      <th>5</th>\n",
       "      <td>Jimmy</td>\n",
       "      <td>The Kids Are Coming</td>\n",
       "      <td>68.0</td>\n",
       "    </tr>\n",
       "    <tr>\n",
       "      <th>6</th>\n",
       "      <td>Colourblind</td>\n",
       "      <td>The Kids Are Coming</td>\n",
       "      <td>67.0</td>\n",
       "    </tr>\n",
       "  </tbody>\n",
       "</table>\n",
       "</div>"
      ],
      "text/plain": [
       "                  name                                        album  \\\n",
       "0         Dance Monkey  Dance Monkey (Stripped Back) / Dance Monkey   \n",
       "1         Dance Monkey                          The Kids Are Coming   \n",
       "2  Never Seen The Rain                          The Kids Are Coming   \n",
       "3      Johnny Run Away                          The Kids Are Coming   \n",
       "4  The Kids Are Coming                          The Kids Are Coming   \n",
       "5                Jimmy                          The Kids Are Coming   \n",
       "6          Colourblind                          The Kids Are Coming   \n",
       "\n",
       "   track_popularity  \n",
       "0             100.0  \n",
       "1              92.0  \n",
       "2              84.0  \n",
       "3              71.0  \n",
       "4              69.0  \n",
       "5              68.0  \n",
       "6              67.0  "
      ]
     },
     "execution_count": 77,
     "metadata": {},
     "output_type": "execute_result"
    }
   ],
   "source": [
    "df_2019[df_2019['main_artist'] == \"'Tones And I'\"][['name','album','track_popularity']].sort_values('track_popularity',ascending=False).reset_index(drop=True)"
   ]
  },
  {
   "cell_type": "code",
   "execution_count": 78,
   "id": "67cfbb41",
   "metadata": {},
   "outputs": [],
   "source": [
    "# Observation: Dance Monkey exists twice (in different albums), and since it was a huge 'hit', it lifts the artist's popularity.\n",
    "# However, we can not say so easy that 'Tones and I' was the most succeed artist of 2019."
   ]
  },
  {
   "cell_type": "code",
   "execution_count": 79,
   "id": "a01aa39f",
   "metadata": {},
   "outputs": [],
   "source": [
    "# Hence, we will consider the number of tracks per artist and their mean popularity"
   ]
  },
  {
   "cell_type": "markdown",
   "id": "bbdbdb22",
   "metadata": {},
   "source": [
    "##### Tracks per artist in 2019"
   ]
  },
  {
   "cell_type": "code",
   "execution_count": 80,
   "id": "20717890",
   "metadata": {
    "scrolled": true
   },
   "outputs": [
    {
     "data": {
      "text/plain": [
       "main_artist\n",
       "'Ed Sheeran'          13\n",
       "'Camila Cabello'      10\n",
       "'Khalid'               9\n",
       "'Tyga'                 8\n",
       "'Upchurch'             8\n",
       "'Ozuna'                8\n",
       "'NLE Choppa'           7\n",
       "'Young Thug'           7\n",
       "'Tones And I'          7\n",
       "'The Chainsmokers'     7\n",
       "Name: id, dtype: int64"
      ]
     },
     "execution_count": 80,
     "metadata": {},
     "output_type": "execute_result"
    }
   ],
   "source": [
    "tracks_per_artist_2019 = df_2019.groupby('main_artist').count()['id'].sort_values(ascending=False).head(50)\n",
    "tracks_per_artist_2019.head(10)"
   ]
  },
  {
   "cell_type": "markdown",
   "id": "1b257146",
   "metadata": {},
   "source": [
    "#### From the artists above, find the mean popularity of their songs"
   ]
  },
  {
   "cell_type": "code",
   "execution_count": 81,
   "id": "6bfb5571",
   "metadata": {},
   "outputs": [],
   "source": [
    "more_than_4 = tracks_per_artist_2019[tracks_per_artist_2019>4] # Artists from above with more than 4 tracks"
   ]
  },
  {
   "cell_type": "code",
   "execution_count": 82,
   "id": "5167256c",
   "metadata": {},
   "outputs": [
    {
     "data": {
      "text/plain": [
       "main_artist\n",
       "'Ed Sheeran'          13\n",
       "'Camila Cabello'      10\n",
       "'Khalid'               9\n",
       "'Tyga'                 8\n",
       "'Upchurch'             8\n",
       "'Ozuna'                8\n",
       "'NLE Choppa'           7\n",
       "'Young Thug'           7\n",
       "'Tones And I'          7\n",
       "'The Chainsmokers'     7\n",
       "'Sech'                 6\n",
       "'Lil Nas X'            6\n",
       "'24kGoldn'             6\n",
       "'Roddy Ricch'          6\n",
       "'Doja Cat'             6\n",
       "'Becky G'              5\n",
       "'David Guetta'         5\n",
       "'Zara Larsson'         5\n",
       "'Comethazine'          5\n",
       "'Sam Feldt'            5\n",
       "'YNW Melly'            5\n",
       "Name: id, dtype: int64"
      ]
     },
     "execution_count": 82,
     "metadata": {},
     "output_type": "execute_result"
    }
   ],
   "source": [
    "more_than_4"
   ]
  },
  {
   "cell_type": "code",
   "execution_count": 83,
   "id": "52ef1271",
   "metadata": {},
   "outputs": [],
   "source": [
    "artist_2019_lst = [i for i in more_than_4.keys()]\n",
    "my_df_2019 = df_2019[df_2019['main_artist'].isin(artist_2019_lst)]"
   ]
  },
  {
   "cell_type": "code",
   "execution_count": 84,
   "id": "a1ab9b2d",
   "metadata": {},
   "outputs": [],
   "source": [
    "# From the artists with more than 4 tracks (recall that the average number of tracks per album in 2019 was 6)\n",
    "# we will consider the mean track popularity of their songs"
   ]
  },
  {
   "cell_type": "code",
   "execution_count": 85,
   "id": "2271af5d",
   "metadata": {
    "scrolled": true
   },
   "outputs": [
    {
     "data": {
      "text/plain": [
       "main_artist\n",
       "'Roddy Ricch'       84.333333\n",
       "'YNW Melly'         82.000000\n",
       "'Lil Nas X'         81.166667\n",
       "'Sech'              81.000000\n",
       "'Young Thug'        79.142857\n",
       "'Tones And I'       78.714286\n",
       "'Camila Cabello'    77.500000\n",
       "'NLE Choppa'        77.428571\n",
       "'Doja Cat'          76.666667\n",
       "'Ed Sheeran'        73.307692\n",
       "Name: track_popularity, dtype: float64"
      ]
     },
     "execution_count": 85,
     "metadata": {},
     "output_type": "execute_result"
    }
   ],
   "source": [
    "top_art_2019 = my_df_2019.groupby('main_artist').mean()['track_popularity'].sort_values(ascending=False)\n",
    "top_art_2019.head(10) # TOP 10 artists in 2019 "
   ]
  },
  {
   "cell_type": "markdown",
   "id": "40513670",
   "metadata": {},
   "source": [
    "#### From the artists above, what was the genre of their songs?"
   ]
  },
  {
   "cell_type": "code",
   "execution_count": 86,
   "id": "b34a4708",
   "metadata": {},
   "outputs": [
    {
     "name": "stderr",
     "output_type": "stream",
     "text": [
      "C:\\Users\\KOSTAS\\AppData\\Local\\Temp/ipykernel_13540/199708856.py:1: FutureWarning: The default dtype for empty Series will be 'object' instead of 'float64' in a future version. Specify a dtype explicitly to silence this warning.\n",
      "  top_2019_genres = pd.Series([]) # empty series\n",
      "C:\\Users\\KOSTAS\\AppData\\Local\\Temp/ipykernel_13540/199708856.py:3: FutureWarning: The series.append method is deprecated and will be removed from pandas in a future version. Use pandas.concat instead.\n",
      "  top_2019_genres = top_2019_genres.append(my_df_2019[my_df_2019['main_artist'] == art]['playlist_genre'])\n",
      "C:\\Users\\KOSTAS\\AppData\\Local\\Temp/ipykernel_13540/199708856.py:3: FutureWarning: The series.append method is deprecated and will be removed from pandas in a future version. Use pandas.concat instead.\n",
      "  top_2019_genres = top_2019_genres.append(my_df_2019[my_df_2019['main_artist'] == art]['playlist_genre'])\n",
      "C:\\Users\\KOSTAS\\AppData\\Local\\Temp/ipykernel_13540/199708856.py:3: FutureWarning: The series.append method is deprecated and will be removed from pandas in a future version. Use pandas.concat instead.\n",
      "  top_2019_genres = top_2019_genres.append(my_df_2019[my_df_2019['main_artist'] == art]['playlist_genre'])\n",
      "C:\\Users\\KOSTAS\\AppData\\Local\\Temp/ipykernel_13540/199708856.py:3: FutureWarning: The series.append method is deprecated and will be removed from pandas in a future version. Use pandas.concat instead.\n",
      "  top_2019_genres = top_2019_genres.append(my_df_2019[my_df_2019['main_artist'] == art]['playlist_genre'])\n",
      "C:\\Users\\KOSTAS\\AppData\\Local\\Temp/ipykernel_13540/199708856.py:3: FutureWarning: The series.append method is deprecated and will be removed from pandas in a future version. Use pandas.concat instead.\n",
      "  top_2019_genres = top_2019_genres.append(my_df_2019[my_df_2019['main_artist'] == art]['playlist_genre'])\n",
      "C:\\Users\\KOSTAS\\AppData\\Local\\Temp/ipykernel_13540/199708856.py:3: FutureWarning: The series.append method is deprecated and will be removed from pandas in a future version. Use pandas.concat instead.\n",
      "  top_2019_genres = top_2019_genres.append(my_df_2019[my_df_2019['main_artist'] == art]['playlist_genre'])\n",
      "C:\\Users\\KOSTAS\\AppData\\Local\\Temp/ipykernel_13540/199708856.py:3: FutureWarning: The series.append method is deprecated and will be removed from pandas in a future version. Use pandas.concat instead.\n",
      "  top_2019_genres = top_2019_genres.append(my_df_2019[my_df_2019['main_artist'] == art]['playlist_genre'])\n",
      "C:\\Users\\KOSTAS\\AppData\\Local\\Temp/ipykernel_13540/199708856.py:3: FutureWarning: The series.append method is deprecated and will be removed from pandas in a future version. Use pandas.concat instead.\n",
      "  top_2019_genres = top_2019_genres.append(my_df_2019[my_df_2019['main_artist'] == art]['playlist_genre'])\n",
      "C:\\Users\\KOSTAS\\AppData\\Local\\Temp/ipykernel_13540/199708856.py:3: FutureWarning: The series.append method is deprecated and will be removed from pandas in a future version. Use pandas.concat instead.\n",
      "  top_2019_genres = top_2019_genres.append(my_df_2019[my_df_2019['main_artist'] == art]['playlist_genre'])\n",
      "C:\\Users\\KOSTAS\\AppData\\Local\\Temp/ipykernel_13540/199708856.py:3: FutureWarning: The series.append method is deprecated and will be removed from pandas in a future version. Use pandas.concat instead.\n",
      "  top_2019_genres = top_2019_genres.append(my_df_2019[my_df_2019['main_artist'] == art]['playlist_genre'])\n"
     ]
    },
    {
     "data": {
      "text/plain": [
       "887485     rap\n",
       "887528     rap\n",
       "1064307    rap\n",
       "1064308    rap\n",
       "1064313    rap\n",
       "          ... \n",
       "860541     pop\n",
       "872396     pop\n",
       "872996     pop\n",
       "884312     pop\n",
       "896052     r&b\n",
       "Length: 73, dtype: object"
      ]
     },
     "execution_count": 86,
     "metadata": {},
     "output_type": "execute_result"
    }
   ],
   "source": [
    "top_2019_genres = pd.Series([]) # empty series\n",
    "for art in top_art_2019.head(10).keys():\n",
    "    top_2019_genres = top_2019_genres.append(my_df_2019[my_df_2019['main_artist'] == art]['playlist_genre'])\n",
    "top_2019_genres"
   ]
  },
  {
   "cell_type": "code",
   "execution_count": 87,
   "id": "1ff81657",
   "metadata": {
    "scrolled": true
   },
   "outputs": [
    {
     "data": {
      "text/plain": [
       "pop      31\n",
       "rap      27\n",
       "r&b       8\n",
       "latin     6\n",
       "edm       1\n",
       "dtype: int64"
      ]
     },
     "execution_count": 87,
     "metadata": {},
     "output_type": "execute_result"
    }
   ],
   "source": [
    "top_2019_genres.value_counts() # we expected that, since if we recall the graph for the mean popularity of each genre,\n",
    "# pop and rap were on top. Also, they were top at track releases in 2019"
   ]
  },
  {
   "cell_type": "markdown",
   "id": "4c9558f2",
   "metadata": {},
   "source": [
    "### For the previous years, firstly we observe the following:"
   ]
  },
  {
   "cell_type": "code",
   "execution_count": 88,
   "id": "4a4444e5",
   "metadata": {},
   "outputs": [],
   "source": [
    "df_2016 = df[(df['year'] == 2016)]"
   ]
  },
  {
   "cell_type": "code",
   "execution_count": 89,
   "id": "f0857573",
   "metadata": {},
   "outputs": [
    {
     "data": {
      "text/plain": [
       "array([nan, 42., 65., 50., 52., 66., 57., 58., 59., 55., 53., 56., 60.,\n",
       "       54., 47., 61., 27., 44., 45., 67., 49., 34., 70., 74., 79., 77.,\n",
       "       73., 63., 51., 33., 62., 85., 69., 25., 26., 48., 43., 41., 78.,\n",
       "       40., 76., 68.,  1.,  0., 18., 17., 19., 72., 30., 38., 75., 64.,\n",
       "       22., 81., 46., 82., 71., 35., 86., 32.])"
      ]
     },
     "execution_count": 89,
     "metadata": {},
     "output_type": "execute_result"
    }
   ],
   "source": [
    "df_2016['track_popularity'].unique()#.sort_values(key = lambda x: x.keys(), ascending = False) -> keys = popularity, \n",
    "                                                                                                 # did it to see the top"
   ]
  },
  {
   "cell_type": "code",
   "execution_count": 90,
   "id": "b30248e9",
   "metadata": {},
   "outputs": [
    {
     "data": {
      "text/plain": [
       "47272"
      ]
     },
     "execution_count": 90,
     "metadata": {},
     "output_type": "execute_result"
    }
   ],
   "source": [
    "df_2016['track_popularity'].isnull().sum() # many Nan's"
   ]
  },
  {
   "cell_type": "markdown",
   "id": "8ae33cd8",
   "metadata": {},
   "source": [
    "#### Situation for the three previous years (solution)"
   ]
  },
  {
   "cell_type": "code",
   "execution_count": 91,
   "id": "47afd38d",
   "metadata": {},
   "outputs": [
    {
     "name": "stdout",
     "output_type": "stream",
     "text": [
      "Top 10 artists for the year 2016 are:\n",
      "\n",
      "\n",
      "main_artist\n",
      "'Fifth Harmony'       71.333333\n",
      "'Sia'                 69.000000\n",
      "'Beyoncé'             67.500000\n",
      "'Solange'             56.400000\n",
      "'Marshmello'          55.666667\n",
      "'The Chainsmokers'    55.200000\n",
      "'Anderson .Paak'      55.000000\n",
      "'MZ'                  35.800000\n",
      "'GoldLink'            34.500000\n",
      "'Paperwhite'          24.200000\n",
      "Name: track_popularity, dtype: float64\n",
      "\n",
      "\n",
      "Top 10 artists for the year 2017 are:\n",
      "\n",
      "\n",
      "main_artist\n",
      "'Ozuna'               71.000000\n",
      "'SZA'                 70.000000\n",
      "'Daniel Caesar'       67.250000\n",
      "'Dua Lipa'            64.857143\n",
      "'Ghostemane'          58.166667\n",
      "'BROCKHAMPTON'        56.909091\n",
      "'The Chainsmokers'    56.100000\n",
      "'Martin Garrix'       55.857143\n",
      "'Kygo'                54.800000\n",
      "'Alan Walker'         30.250000\n",
      "Name: track_popularity, dtype: float64\n",
      "\n",
      "\n",
      "Top 10 artists for the year 2018 are:\n",
      "\n",
      "\n",
      "main_artist\n",
      "'Bad Bunny'           73.444444\n",
      "'Khalid'              72.500000\n",
      "'Ozuna'               67.833333\n",
      "'Clean Bandit'        67.142857\n",
      "'Calvin Harris'       66.333333\n",
      "'Jorja Smith'         64.571429\n",
      "'Marshmello'          61.400000\n",
      "'Martin Garrix'       58.166667\n",
      "'The Chainsmokers'    47.166667\n",
      "'Javiera Mena'        29.900000\n",
      "Name: track_popularity, dtype: float64\n",
      "\n",
      "\n"
     ]
    }
   ],
   "source": [
    "my_years = [2016,2017,2018]\n",
    "artists_16_17_18 = []\n",
    "for year in my_years:\n",
    "    df_year = df[(df['year'] == year) & (df['track_popularity'] > 0)] \n",
    "    w_year = df_year.groupby('main_artist').count()['id'].sort_values(ascending=False).head(10) # num. of songs in year\n",
    "    artist_lst_year = [i for i in w_year.keys()]\n",
    "    my_df_year = df_year[df_year['main_artist'].isin(artist_lst_year)]\n",
    "    y_year = my_df_year.groupby('main_artist').mean()['track_popularity'].sort_values(ascending=False).head(10)\n",
    "    for j in y_year.keys(): # list with names of the artists\n",
    "        artists_16_17_18.append(j)\n",
    "    print(\"Top 10 artists for the year\",year,\"are:\")\n",
    "    print(\"\\n\")\n",
    "    print(y_year)\n",
    "    print(\"\\n\")\n",
    "# If we wanted access in the elements of the series below, we should code seperately for each year  "
   ]
  },
  {
   "cell_type": "code",
   "execution_count": 92,
   "id": "4816a449",
   "metadata": {},
   "outputs": [
    {
     "name": "stdout",
     "output_type": "stream",
     "text": [
      "[\"'Fifth Harmony'\", \"'Sia'\", \"'Beyoncé'\", \"'Solange'\", \"'Marshmello'\", \"'The Chainsmokers'\", \"'Anderson .Paak'\", \"'MZ'\", \"'GoldLink'\", \"'Paperwhite'\", \"'Ozuna'\", \"'SZA'\", \"'Daniel Caesar'\", \"'Dua Lipa'\", \"'Ghostemane'\", \"'BROCKHAMPTON'\", \"'The Chainsmokers'\", \"'Martin Garrix'\", \"'Kygo'\", \"'Alan Walker'\", \"'Bad Bunny'\", \"'Khalid'\", \"'Ozuna'\", \"'Clean Bandit'\", \"'Calvin Harris'\", \"'Jorja Smith'\", \"'Marshmello'\", \"'Martin Garrix'\", \"'The Chainsmokers'\", \"'Javiera Mena'\"]\n"
     ]
    }
   ],
   "source": [
    "print(artists_16_17_18 )\n",
    "# Recall that this list contains the names of the artists above. \n",
    "# I want to find who of them appear three times in the list, i.e. were top-10 for 2016,2017,2018"
   ]
  },
  {
   "cell_type": "code",
   "execution_count": 93,
   "id": "b5df9fff",
   "metadata": {},
   "outputs": [],
   "source": [
    "from collections import Counter\n",
    "import operator"
   ]
  },
  {
   "cell_type": "code",
   "execution_count": 94,
   "id": "34787b1a",
   "metadata": {},
   "outputs": [
    {
     "name": "stdout",
     "output_type": "stream",
     "text": [
      "[(\"'The Chainsmokers'\", 3), (\"'Marshmello'\", 2), (\"'Ozuna'\", 2), (\"'Martin Garrix'\", 2), (\"'Fifth Harmony'\", 1), (\"'Sia'\", 1), (\"'Beyoncé'\", 1), (\"'Solange'\", 1), (\"'Anderson .Paak'\", 1), (\"'MZ'\", 1), (\"'GoldLink'\", 1), (\"'Paperwhite'\", 1), (\"'SZA'\", 1), (\"'Daniel Caesar'\", 1), (\"'Dua Lipa'\", 1), (\"'Ghostemane'\", 1), (\"'BROCKHAMPTON'\", 1), (\"'Kygo'\", 1), (\"'Alan Walker'\", 1), (\"'Bad Bunny'\", 1), (\"'Khalid'\", 1), (\"'Clean Bandit'\", 1), (\"'Calvin Harris'\", 1), (\"'Jorja Smith'\", 1), (\"'Javiera Mena'\", 1)]\n"
     ]
    }
   ],
   "source": [
    "my_dict = Counter(artists_16_17_18)\n",
    "result = sorted(my_dict.items(),key=operator.itemgetter(1),reverse=True)\n",
    "print(result)"
   ]
  },
  {
   "cell_type": "code",
   "execution_count": 95,
   "id": "b1f0e03b",
   "metadata": {},
   "outputs": [
    {
     "name": "stdout",
     "output_type": "stream",
     "text": [
      "[\"'The Chainsmokers'\"]\n"
     ]
    }
   ],
   "source": [
    "top_art = []\n",
    "for i in my_dict.keys():\n",
    "    if my_dict[i] == 3:\n",
    "        top_art.append(i)\n",
    "print(top_art)"
   ]
  },
  {
   "cell_type": "markdown",
   "id": "4fa7c08d",
   "metadata": {},
   "source": [
    "#### Where \"The Chainsmokers\" in top-10 in 2019?"
   ]
  },
  {
   "cell_type": "code",
   "execution_count": 96,
   "id": "257de570",
   "metadata": {},
   "outputs": [],
   "source": [
    "### I will write a code, which would work if we had more artists in the list above and not only \"The Chainsmokers\""
   ]
  },
  {
   "cell_type": "code",
   "execution_count": 97,
   "id": "5015ee35",
   "metadata": {},
   "outputs": [],
   "source": [
    "result = []\n",
    "for i in top_art:\n",
    "    if i in top_art_2019.keys():\n",
    "        result.append([i,top_art_2019[i]]) # artist and mean 'popularity' of their songs in 2019"
   ]
  },
  {
   "cell_type": "code",
   "execution_count": 98,
   "id": "ee69d297",
   "metadata": {},
   "outputs": [
    {
     "data": {
      "text/plain": [
       "[[\"'The Chainsmokers'\", 67.0]]"
      ]
     },
     "execution_count": 98,
     "metadata": {},
     "output_type": "execute_result"
    }
   ],
   "source": [
    "sorted(result, key = lambda x: x[1], reverse = True) # This would sort with the top artist, if we had more (more data)"
   ]
  },
  {
   "cell_type": "markdown",
   "id": "0e9b3941",
   "metadata": {},
   "source": [
    "### 3. Do the songs become more explicit or not as the years pass? What about their popularity?"
   ]
  },
  {
   "cell_type": "code",
   "execution_count": 116,
   "id": "b2aeaa15",
   "metadata": {},
   "outputs": [
    {
     "data": {
      "image/png": "[encoded data removed]",
      "text/plain": [
       "<Figure size 864x360 with 1 Axes>"
      ]
     },
     "metadata": {
      "needs_background": "light"
     },
     "output_type": "display_data"
    }
   ],
   "source": [
    "expl_tracks = df.groupby('year')['explicit'].apply(lambda x: x[x == True].count())\n",
    "\n",
    "expl_tracks.plot(kind=\"bar\",rot=45,figsize=(12,5))\n",
    "plt.title('No. of explicit tracks per year')\n",
    "plt.xlabel('Year')\n",
    "plt.ylabel('No. of explicit tracks') \n",
    "plt.show()\n",
    "\n",
    "# We can see a huge \"jump\" in 2020"
   ]
  },
  {
   "cell_type": "markdown",
   "id": "de2a2b3e",
   "metadata": {},
   "source": [
    "#### Ratio of explicit songs per year"
   ]
  },
  {
   "cell_type": "code",
   "execution_count": 100,
   "id": "1e7e660e",
   "metadata": {},
   "outputs": [
    {
     "data": {
      "text/plain": [
       "year  explicit\n",
       "1991  False        8303\n",
       "      True           77\n",
       "1992  False        9345\n",
       "      True          294\n",
       "1993  False       10674\n",
       "      True          343\n",
       "1994  False       13818\n",
       "      True          312\n",
       "1995  False       16879\n",
       "      True          538\n",
       "1996  False       17231\n",
       "      True          609\n",
       "1997  False       19610\n",
       "      True          619\n",
       "1998  False       20182\n",
       "      True          831\n",
       "1999  False       25037\n",
       "      True          894\n",
       "2000  False       29446\n",
       "      True         1129\n",
       "2001  False       28266\n",
       "      True         1112\n",
       "2002  False       29621\n",
       "      True         1240\n",
       "2003  False       33863\n",
       "      True         1133\n",
       "2004  False       37311\n",
       "      True         1385\n",
       "2005  False       48195\n",
       "      True         1782\n",
       "2006  False       54734\n",
       "      True         2211\n",
       "2007  False       54609\n",
       "      True         1678\n",
       "2008  False       48716\n",
       "      True         1759\n",
       "2009  False       43607\n",
       "      True         1956\n",
       "2010  False       42296\n",
       "      True         2254\n",
       "2011  False       43111\n",
       "      True         2531\n",
       "2012  False       42733\n",
       "      True         2375\n",
       "2013  False       46115\n",
       "      True         2933\n",
       "2014  False       42454\n",
       "      True         2551\n",
       "2015  False       43590\n",
       "      True         2968\n",
       "2016  False       44233\n",
       "      True         3194\n",
       "2017  False       46757\n",
       "      True         4551\n",
       "2018  False       50029\n",
       "      True         6138\n",
       "2019  False       56027\n",
       "      True        11249\n",
       "2020  False       48235\n",
       "      True        21491\n",
       "dtype: int64"
      ]
     },
     "execution_count": 100,
     "metadata": {},
     "output_type": "execute_result"
    }
   ],
   "source": [
    "expl_ser = df.groupby(['year','explicit']).size()\n",
    "expl_ser"
   ]
  },
  {
   "cell_type": "code",
   "execution_count": 101,
   "id": "ce94bfea",
   "metadata": {},
   "outputs": [
    {
     "data": {
      "text/html": [
       "<div>\n",
       "<style scoped>\n",
       "    .dataframe tbody tr th:only-of-type {\n",
       "        vertical-align: middle;\n",
       "    }\n",
       "\n",
       "    .dataframe tbody tr th {\n",
       "        vertical-align: top;\n",
       "    }\n",
       "\n",
       "    .dataframe thead th {\n",
       "        text-align: right;\n",
       "    }\n",
       "</style>\n",
       "<table border=\"1\" class=\"dataframe\">\n",
       "  <thead>\n",
       "    <tr style=\"text-align: right;\">\n",
       "      <th>explicit</th>\n",
       "      <th>year</th>\n",
       "      <th>False</th>\n",
       "      <th>True</th>\n",
       "    </tr>\n",
       "  </thead>\n",
       "  <tbody>\n",
       "    <tr>\n",
       "      <th>0</th>\n",
       "      <td>1991</td>\n",
       "      <td>8303</td>\n",
       "      <td>77</td>\n",
       "    </tr>\n",
       "    <tr>\n",
       "      <th>1</th>\n",
       "      <td>1992</td>\n",
       "      <td>9345</td>\n",
       "      <td>294</td>\n",
       "    </tr>\n",
       "    <tr>\n",
       "      <th>2</th>\n",
       "      <td>1993</td>\n",
       "      <td>10674</td>\n",
       "      <td>343</td>\n",
       "    </tr>\n",
       "    <tr>\n",
       "      <th>3</th>\n",
       "      <td>1994</td>\n",
       "      <td>13818</td>\n",
       "      <td>312</td>\n",
       "    </tr>\n",
       "    <tr>\n",
       "      <th>4</th>\n",
       "      <td>1995</td>\n",
       "      <td>16879</td>\n",
       "      <td>538</td>\n",
       "    </tr>\n",
       "  </tbody>\n",
       "</table>\n",
       "</div>"
      ],
      "text/plain": [
       "explicit  year  False  True\n",
       "0         1991   8303    77\n",
       "1         1992   9345   294\n",
       "2         1993  10674   343\n",
       "3         1994  13818   312\n",
       "4         1995  16879   538"
      ]
     },
     "execution_count": 101,
     "metadata": {},
     "output_type": "execute_result"
    }
   ],
   "source": [
    "# Create new dataframe from the series above\n",
    "expl_df = expl_ser.unstack(level = -1)\n",
    "\n",
    "modified_expl = expl_df.reset_index()\n",
    "modified_expl.head()"
   ]
  },
  {
   "cell_type": "code",
   "execution_count": 102,
   "id": "46b2d0b7",
   "metadata": {},
   "outputs": [
    {
     "data": {
      "text/html": [
       "<div>\n",
       "<style scoped>\n",
       "    .dataframe tbody tr th:only-of-type {\n",
       "        vertical-align: middle;\n",
       "    }\n",
       "\n",
       "    .dataframe tbody tr th {\n",
       "        vertical-align: top;\n",
       "    }\n",
       "\n",
       "    .dataframe thead th {\n",
       "        text-align: right;\n",
       "    }\n",
       "</style>\n",
       "<table border=\"1\" class=\"dataframe\">\n",
       "  <thead>\n",
       "    <tr style=\"text-align: right;\">\n",
       "      <th>explicit</th>\n",
       "      <th>year</th>\n",
       "      <th>False</th>\n",
       "      <th>True</th>\n",
       "      <th>ratio</th>\n",
       "    </tr>\n",
       "  </thead>\n",
       "  <tbody>\n",
       "    <tr>\n",
       "      <th>25</th>\n",
       "      <td>2016</td>\n",
       "      <td>44233</td>\n",
       "      <td>3194</td>\n",
       "      <td>6.73</td>\n",
       "    </tr>\n",
       "    <tr>\n",
       "      <th>26</th>\n",
       "      <td>2017</td>\n",
       "      <td>46757</td>\n",
       "      <td>4551</td>\n",
       "      <td>8.87</td>\n",
       "    </tr>\n",
       "    <tr>\n",
       "      <th>27</th>\n",
       "      <td>2018</td>\n",
       "      <td>50029</td>\n",
       "      <td>6138</td>\n",
       "      <td>10.93</td>\n",
       "    </tr>\n",
       "    <tr>\n",
       "      <th>28</th>\n",
       "      <td>2019</td>\n",
       "      <td>56027</td>\n",
       "      <td>11249</td>\n",
       "      <td>16.72</td>\n",
       "    </tr>\n",
       "    <tr>\n",
       "      <th>29</th>\n",
       "      <td>2020</td>\n",
       "      <td>48235</td>\n",
       "      <td>21491</td>\n",
       "      <td>30.82</td>\n",
       "    </tr>\n",
       "  </tbody>\n",
       "</table>\n",
       "</div>"
      ],
      "text/plain": [
       "explicit  year  False   True  ratio\n",
       "25        2016  44233   3194   6.73\n",
       "26        2017  46757   4551   8.87\n",
       "27        2018  50029   6138  10.93\n",
       "28        2019  56027  11249  16.72\n",
       "29        2020  48235  21491  30.82"
      ]
     },
     "execution_count": 102,
     "metadata": {},
     "output_type": "execute_result"
    }
   ],
   "source": [
    "modified_expl['ratio'] = round(modified_expl[True]/(modified_expl[True] + modified_expl[False]) * 100,2)\n",
    "modified_expl.tail()"
   ]
  },
  {
   "cell_type": "markdown",
   "id": "a805b141",
   "metadata": {},
   "source": [
    "#### Mean popularity of those songs?"
   ]
  },
  {
   "cell_type": "code",
   "execution_count": 103,
   "id": "5f40b8bc",
   "metadata": {
    "scrolled": true
   },
   "outputs": [
    {
     "name": "stdout",
     "output_type": "stream",
     "text": [
      "Float64Index([70.0, 12.0, 6.0, 35.0, 77.0, 46.0, 60.0, 39.0], dtype='float64')\n"
     ]
    }
   ],
   "source": [
    "print(df[(df['year'] == 2020) & (df['explicit'] == True)]['track_popularity'].value_counts().keys() )\n",
    "# the key is the popularity of each track\n",
    "# too few data for 2020 (track_pop)"
   ]
  },
  {
   "cell_type": "code",
   "execution_count": 104,
   "id": "16bccd92",
   "metadata": {},
   "outputs": [
    {
     "name": "stdout",
     "output_type": "stream",
     "text": [
      "For the explicit tracks in 2017 the main track_popularity is: 62.52777777777778\n",
      "For the explicit tracks in 2018 the main track_popularity is: 60.391304347826086\n",
      "For the explicit tracks in 2019 the main track_popularity is: 60.9\n"
     ]
    }
   ],
   "source": [
    "last_years = [2017,2018,2019] # Lets check for 2017,2018,2019\n",
    "for year in last_years:\n",
    "    year_df = df[(df['year'] == year) & (df['explicit'] == True) & (df['track_popularity'] >=0)]\n",
    "    print(\"For the explicit tracks in\",year,\n",
    "          \"the main track_popularity is:\",np.mean(year_df['track_popularity'].value_counts().keys()))"
   ]
  },
  {
   "cell_type": "markdown",
   "id": "c53a7832",
   "metadata": {},
   "source": [
    "#### Check similarly for non-explicit tracks"
   ]
  },
  {
   "cell_type": "code",
   "execution_count": 105,
   "id": "d097b164",
   "metadata": {},
   "outputs": [
    {
     "name": "stdout",
     "output_type": "stream",
     "text": [
      "For the explicit tracks in 2017 the main track_popularity is: 49.71186440677966\n",
      "For the explicit tracks in 2018 the main track_popularity is: 52.246153846153845\n",
      "For the explicit tracks in 2019 the main track_popularity is: 59.726027397260275\n"
     ]
    }
   ],
   "source": [
    "for year in last_years:\n",
    "    year_df = df[(df['year'] == year) & (df['explicit'] == False) & (df['track_popularity'] >=0)]\n",
    "    print(\"For the explicit tracks in\",year,\n",
    "          \"the main track_popularity is:\",np.mean(year_df['track_popularity'].value_counts().keys()))"
   ]
  },
  {
   "cell_type": "code",
   "execution_count": 106,
   "id": "b90a3767",
   "metadata": {},
   "outputs": [],
   "source": [
    "# The values are relatively close, maybe with more data (with track_popularity) we could have more insights"
   ]
  },
  {
   "cell_type": "markdown",
   "id": "02ac280f",
   "metadata": {},
   "source": [
    "#### Similarly for feats"
   ]
  },
  {
   "cell_type": "code",
   "execution_count": 107,
   "id": "c566a0eb",
   "metadata": {},
   "outputs": [
    {
     "name": "stdout",
     "output_type": "stream",
     "text": [
      "For the explicit tracks in 2017 the main track_popularity is: 54.170212765957444\n",
      "For the explicit tracks in 2018 the main track_popularity is: 54.78333333333333\n",
      "For the explicit tracks in 2019 the main track_popularity is: 62.354838709677416\n"
     ]
    }
   ],
   "source": [
    "for year in last_years:\n",
    "    year_df = df[(df['year'] == year) & (df['feat'] == \"Yes\") & (df['track_popularity'] >=0)]\n",
    "    print(\"For the explicit tracks in\",year,\n",
    "          \"the main track_popularity is:\",np.mean(year_df['track_popularity'].value_counts().keys()))"
   ]
  },
  {
   "cell_type": "code",
   "execution_count": 108,
   "id": "f5d08e15",
   "metadata": {},
   "outputs": [
    {
     "name": "stdout",
     "output_type": "stream",
     "text": [
      "For the explicit tracks in 2017 the main track_popularity is: 55.07692307692308\n",
      "For the explicit tracks in 2018 the main track_popularity is: 54.67213114754098\n",
      "For the explicit tracks in 2019 the main track_popularity is: 59.391891891891895\n"
     ]
    }
   ],
   "source": [
    "for year in last_years:\n",
    "    year_df = df[(df['year'] == year) & (df['feat'] == \"No\") & (df['track_popularity'] >=0)]\n",
    "    print(\"For the explicit tracks in\",year,\n",
    "          \"the main track_popularity is:\",np.mean(year_df['track_popularity'].value_counts().keys()))"
   ]
  },
  {
   "cell_type": "code",
   "execution_count": 109,
   "id": "09a9a1df",
   "metadata": {},
   "outputs": [],
   "source": [
    "# Relatively close values again"
   ]
  },
  {
   "cell_type": "markdown",
   "id": "99b073f3",
   "metadata": {},
   "source": [
    "# Analysis part_2"
   ]
  },
  {
   "cell_type": "markdown",
   "id": "10aa597c",
   "metadata": {},
   "source": [
    "### 1. How has 'mood' of tracks changed from 1991 to 2020?"
   ]
  },
  {
   "cell_type": "code",
   "execution_count": 110,
   "id": "2333662f",
   "metadata": {},
   "outputs": [],
   "source": [
    "mood_cols = ['valence','danceability','energy','tempo']"
   ]
  },
  {
   "cell_type": "code",
   "execution_count": 111,
   "id": "f8417040",
   "metadata": {},
   "outputs": [
    {
     "name": "stdout",
     "output_type": "stream",
     "text": [
      "valence\n",
      "year\n",
      "1991    0.426592\n",
      "1992    0.420021\n",
      "1993    0.425066\n",
      "1994    0.415479\n",
      "1995    0.411501\n",
      "1996    0.447474\n",
      "1997    0.432897\n",
      "1998    0.438482\n",
      "1999    0.419774\n",
      "2000    0.427647\n",
      "2001    0.444246\n",
      "2002    0.443782\n",
      "2003    0.442237\n",
      "2004    0.449447\n",
      "2005    0.459240\n",
      "2006    0.450642\n",
      "2007    0.442624\n",
      "2008    0.444999\n",
      "2009    0.440735\n",
      "2010    0.427043\n",
      "2011    0.420301\n",
      "2012    0.410541\n",
      "2013    0.406460\n",
      "2014    0.413385\n",
      "2015    0.409528\n",
      "2016    0.404568\n",
      "2017    0.394594\n",
      "2018    0.404441\n",
      "2019    0.410172\n",
      "2020    0.408123\n",
      "Name: valence, dtype: float64\n",
      "danceability\n",
      "year\n",
      "1991    0.452272\n",
      "1992    0.452555\n",
      "1993    0.466698\n",
      "1994    0.445240\n",
      "1995    0.447920\n",
      "1996    0.471078\n",
      "1997    0.479017\n",
      "1998    0.476113\n",
      "1999    0.467164\n",
      "2000    0.467394\n",
      "2001    0.490235\n",
      "2002    0.492547\n",
      "2003    0.490780\n",
      "2004    0.497879\n",
      "2005    0.498537\n",
      "2006    0.490907\n",
      "2007    0.493202\n",
      "2008    0.493351\n",
      "2009    0.493872\n",
      "2010    0.482330\n",
      "2011    0.481694\n",
      "2012    0.480525\n",
      "2013    0.484015\n",
      "2014    0.486485\n",
      "2015    0.489434\n",
      "2016    0.494651\n",
      "2017    0.495710\n",
      "2018    0.517009\n",
      "2019    0.532346\n",
      "2020    0.558905\n",
      "Name: danceability, dtype: float64\n",
      "energy\n",
      "year\n",
      "1991    0.350161\n",
      "1992    0.394444\n",
      "1993    0.387304\n",
      "1994    0.386651\n",
      "1995    0.379824\n",
      "1996    0.431406\n",
      "1997    0.412524\n",
      "1998    0.437538\n",
      "1999    0.446497\n",
      "2000    0.434309\n",
      "2001    0.482190\n",
      "2002    0.497621\n",
      "2003    0.509621\n",
      "2004    0.526442\n",
      "2005    0.495046\n",
      "2006    0.507797\n",
      "2007    0.511952\n",
      "2008    0.528218\n",
      "2009    0.519139\n",
      "2010    0.523515\n",
      "2011    0.515404\n",
      "2012    0.531119\n",
      "2013    0.518429\n",
      "2014    0.535738\n",
      "2015    0.539310\n",
      "2016    0.547020\n",
      "2017    0.545366\n",
      "2018    0.569536\n",
      "2019    0.584675\n",
      "2020    0.585173\n",
      "Name: energy, dtype: float64\n",
      "tempo\n",
      "year\n",
      "1991    113.241539\n",
      "1992    114.046438\n",
      "1993    114.306527\n",
      "1994    114.459022\n",
      "1995    113.867774\n",
      "1996    115.961868\n",
      "1997    114.908741\n",
      "1998    115.469966\n",
      "1999    114.551176\n",
      "2000    114.604785\n",
      "2001    116.478597\n",
      "2002    116.646075\n",
      "2003    117.183761\n",
      "2004    117.774905\n",
      "2005    117.595742\n",
      "2006    117.442824\n",
      "2007    117.297434\n",
      "2008    118.324922\n",
      "2009    118.014157\n",
      "2010    117.917139\n",
      "2011    117.712371\n",
      "2012    118.264183\n",
      "2013    118.176794\n",
      "2014    118.614212\n",
      "2015    119.117520\n",
      "2016    118.940693\n",
      "2017    118.728206\n",
      "2018    119.539635\n",
      "2019    120.208208\n",
      "2020    119.403470\n",
      "Name: tempo, dtype: float64\n"
     ]
    }
   ],
   "source": [
    "for col in mood_cols:\n",
    "    print(col)\n",
    "    print(df.groupby('year').mean()[col])"
   ]
  },
  {
   "cell_type": "code",
   "execution_count": 112,
   "id": "273a51f3",
   "metadata": {
    "scrolled": true
   },
   "outputs": [
    {
     "data": {
      "image/png": "[encoded data removed]",
      "text/plain": [
       "<Figure size 720x432 with 4 Axes>"
      ]
     },
     "metadata": {
      "needs_background": "light"
     },
     "output_type": "display_data"
    }
   ],
   "source": [
    "fig, axes = plt.subplots(nrows=2, ncols=2)\n",
    "df.groupby('year').mean()['valence'].plot(ax=axes[0][0], kind='line',rot=0, figsize=(10,6), title = 'Mean Valence')\n",
    "df.groupby('year').mean()['danceability'].plot(ax=axes[0][1], kind='line',rot=0, figsize=(10,6), title = 'Mean Danceability')\n",
    "df.groupby('year').mean()['energy'].plot(ax=axes[1][0], kind='line',rot=0, figsize=(10,6), title = 'Mean Energy')\n",
    "df.groupby('year').mean()['tempo'].plot(ax=axes[1][1], kind='line',rot=0, figsize=(10,6), title = 'Mean Tempo')\n",
    "\n",
    "plt.tight_layout() # For not having overlap of titles and axes"
   ]
  },
  {
   "cell_type": "code",
   "execution_count": 113,
   "id": "8e89fa45",
   "metadata": {},
   "outputs": [],
   "source": [
    "# Observations:\n",
    "\n",
    "# Valence: Decreasing through the years, although after 2016 we have a small increase, \n",
    "# which falls again in 2020 (maybe because of covid)\n",
    "\n",
    "# Danceability: Increases as years pass\n",
    "\n",
    "# Mean Energy: Increases\n",
    "\n",
    "# Mean Tempo: Increases in general, although in 2020 there was a slight decrease"
   ]
  },
  {
   "cell_type": "markdown",
   "id": "6e48cc05",
   "metadata": {},
   "source": [
    "### 2. How have 'properties' changed throughout the years?"
   ]
  },
  {
   "cell_type": "code",
   "execution_count": 114,
   "id": "6ead82c5",
   "metadata": {},
   "outputs": [
    {
     "data": {
      "image/png": "[encoded data removed]",
      "text/plain": [
       "<Figure size 864x432 with 3 Axes>"
      ]
     },
     "metadata": {
      "needs_background": "light"
     },
     "output_type": "display_data"
    }
   ],
   "source": [
    "fig, axes = plt.subplots(nrows=1, ncols=3)\n",
    "df.groupby('year').mean()['loudness'].plot(ax=axes[0], kind='line',rot=0, figsize=(12, 6), title = 'Mean Loudness')\n",
    "df.groupby('year').mean()['speechiness'].plot(ax=axes[1], kind='line',rot=0, figsize=(12,6), title = 'Mean Speechiness')\n",
    "df.groupby('year').mean()['instrumentalness'].plot(ax=axes[2], kind='line',rot=0, figsize=(12,6), title = 'Mean Instrumentalness')\n",
    "\n",
    "plt.tight_layout() "
   ]
  },
  {
   "cell_type": "code",
   "execution_count": 115,
   "id": "297d5774",
   "metadata": {},
   "outputs": [
    {
     "data": {
      "text/plain": [
       "'\\nInstrumentalness:\\nPredicts whether a track contains no vocals. “Ooh” and “aah” sounds are treated as instrumental in this context. \\nRap or spoken word tracks are clearly “vocal”. \\nThe closer the instrumentalness value is to 1.0, the greater likelihood the track contains no vocal content.\\n'"
      ]
     },
     "execution_count": 115,
     "metadata": {},
     "output_type": "execute_result"
    }
   ],
   "source": [
    "\"\"\"\n",
    "Instrumentalness:\n",
    "Predicts whether a track contains no vocals. “Ooh” and “aah” sounds are treated as instrumental in this context. \n",
    "Rap or spoken word tracks are clearly “vocal”. \n",
    "The closer the instrumentalness value is to 1.0, the greater likelihood the track contains no vocal content.\n",
    "\"\"\""
   ]
  },
  {
   "cell_type": "code",
   "execution_count": 116,
   "id": "4e7a332e",
   "metadata": {},
   "outputs": [],
   "source": [
    "# Due to the high popularity that 'rap' gained the last years, we can see why 'instrumentalness' has decreased significantly \n",
    "# in the recent years."
   ]
  },
  {
   "cell_type": "markdown",
   "id": "7ac039bf",
   "metadata": {},
   "source": [
    "### 3. How has 'context' changed throughout the years?"
   ]
  },
  {
   "cell_type": "code",
   "execution_count": 117,
   "id": "3f337c67",
   "metadata": {},
   "outputs": [],
   "source": [
    "# context: liveness, acousticness"
   ]
  },
  {
   "cell_type": "code",
   "execution_count": 118,
   "id": "33eb0cd5",
   "metadata": {},
   "outputs": [
    {
     "data": {
      "image/png": "[encoded data removed]",
      "text/plain": [
       "<Figure size 864x432 with 2 Axes>"
      ]
     },
     "metadata": {
      "needs_background": "light"
     },
     "output_type": "display_data"
    }
   ],
   "source": [
    "fig, axes = plt.subplots(nrows=1, ncols=2)\n",
    "df.groupby('year').mean()['liveness'].plot(ax=axes[0], kind='line',rot=0, figsize=(12, 6), title = 'Mean Liveness')\n",
    "df.groupby('year').mean()['acousticness'].plot(ax=axes[1], kind='line',rot=0, figsize=(12,6), title = 'Mean Acousticness')\n",
    "\n",
    "\n",
    "plt.tight_layout() "
   ]
  },
  {
   "cell_type": "code",
   "execution_count": 119,
   "id": "cf963e30",
   "metadata": {},
   "outputs": [
    {
     "data": {
      "text/plain": [
       "'\\nAcousticness:\\nA confidence measure from 0.0 to 1.0 of whether the track is acoustic. 1.0 represents high confidence the track is acoustic.\\n\\nAcoustic music is music that solely or primarily uses instruments that produce sound through acoustic means,\\nas opposed to electric or electronic means.\\n'"
      ]
     },
     "execution_count": 119,
     "metadata": {},
     "output_type": "execute_result"
    }
   ],
   "source": [
    "\"\"\"\n",
    "Acousticness:\n",
    "A confidence measure from 0.0 to 1.0 of whether the track is acoustic. 1.0 represents high confidence the track is acoustic.\n",
    "\n",
    "Acoustic music is music that solely or primarily uses instruments that produce sound through acoustic means,\n",
    "as opposed to electric or electronic means.\n",
    "\"\"\""
   ]
  },
  {
   "cell_type": "code",
   "execution_count": 120,
   "id": "adb564e2",
   "metadata": {},
   "outputs": [],
   "source": [
    "# Again, due to the increase of popularity of 'rap','pop','r&b' and 'edm' (electronic music), we can understand the decrease\n",
    "# of mean acousticness of songs as years pass"
   ]
  },
  {
   "cell_type": "code",
   "execution_count": 121,
   "id": "aa85f96d",
   "metadata": {},
   "outputs": [],
   "source": [
    "# In general, only valence and tempo changed their behaviour, in 2019-2020 (covid years), in comparison with the previous years."
   ]
  },
  {
   "cell_type": "markdown",
   "id": "3fd49db4",
   "metadata": {},
   "source": [
    "#### All graphs together"
   ]
  },
  {
   "cell_type": "code",
   "execution_count": 122,
   "id": "d9e54fdb",
   "metadata": {},
   "outputs": [
    {
     "data": {
      "image/png": "[encoded data removed]",
      "text/plain": [
       "<Figure size 864x432 with 9 Axes>"
      ]
     },
     "metadata": {
      "needs_background": "light"
     },
     "output_type": "display_data"
    }
   ],
   "source": [
    "fig, axes = plt.subplots(nrows=4, ncols=3)\n",
    "df.groupby('year').mean()['valence'].plot(ax=axes[0][0], kind='line',rot=0, figsize=(10,6), title = 'Mean Valence')\n",
    "df.groupby('year').mean()['danceability'].plot(ax=axes[0][1], kind='line',rot=0, figsize=(10,6), title = 'Mean Danceability')\n",
    "df.groupby('year').mean()['energy'].plot(ax=axes[1][0], kind='line',rot=0, figsize=(10,6), title = 'Mean Energy')\n",
    "df.groupby('year').mean()['tempo'].plot(ax=axes[1][1], kind='line',rot=0, figsize=(10,6), title = 'Mean Tempo')\n",
    "df.groupby('year').mean()['loudness'].plot(ax=axes[2][0], kind='line',rot=0, figsize=(12, 6), title = 'Mean Loudness')\n",
    "df.groupby('year').mean()['speechiness'].plot(ax=axes[2][1], kind='line',rot=0, figsize=(12,6), title = 'Mean Speechiness')\n",
    "df.groupby('year').mean()['instrumentalness'].plot(ax=axes[2][2], kind='line',rot=0, figsize=(12,6), title = 'Mean Instrumentalness')\n",
    "df.groupby('year').mean()['liveness'].plot(ax=axes[3][0], kind='line',rot=0, figsize=(12, 6), title = 'Mean Liveness')\n",
    "df.groupby('year').mean()['acousticness'].plot(ax=axes[3][1], kind='line',rot=0, figsize=(12,6), title = 'Mean Acousticness')\n",
    "\n",
    "fig.delaxes(axes[0][2])\n",
    "fig.delaxes(axes[1][2]) # Remove empty subplots\n",
    "fig.delaxes(axes[3][2])\n",
    "\n",
    "plt.tight_layout() # For not having overlap of titles and axes"
   ]
  }
 ],
 "metadata": {
  "kernelspec": {
   "display_name": "Python 3 (ipykernel)",
   "language": "python",
   "name": "python3"
  },
  "language_info": {
   "codemirror_mode": {
    "name": "ipython",
    "version": 3
   },
   "file_extension": ".py",
   "mimetype": "text/x-python",
   "name": "python",
   "nbconvert_exporter": "python",
   "pygments_lexer": "ipython3",
   "version": "3.8.10"
  }
 },
 "nbformat": 4,
 "nbformat_minor": 5
}
